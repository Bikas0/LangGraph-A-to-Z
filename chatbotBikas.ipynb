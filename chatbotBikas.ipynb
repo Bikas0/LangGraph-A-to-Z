{
 "cells": [
  {
   "cell_type": "code",
   "execution_count": 30,
   "id": "bd966a19",
   "metadata": {},
   "outputs": [],
   "source": [
    "from langgraph.graph import StateGraph, START, END\n",
    "from langgraph.graph.message import add_messages\n",
    "from langchain_groq import ChatGroq\n",
    "from dotenv import load_dotenv\n",
    "from langchain_core.messages import SystemMessage, HumanMessage, BaseMessage\n",
    "from typing import Literal, Annotated, TypedDict\n",
    "from langgraph.checkpoint.memory import MemorySaver"
   ]
  },
  {
   "cell_type": "code",
   "execution_count": 31,
   "id": "25d4caf0",
   "metadata": {},
   "outputs": [
    {
     "data": {
      "text/plain": [
       "True"
      ]
     },
     "execution_count": 31,
     "metadata": {},
     "output_type": "execute_result"
    }
   ],
   "source": [
    "load_dotenv()"
   ]
  },
  {
   "cell_type": "code",
   "execution_count": 32,
   "id": "b9b2e037",
   "metadata": {},
   "outputs": [],
   "source": [
    "class ChatbotState(TypedDict):\n",
    "    messages: Annotated[list[BaseMessage], add_messages]"
   ]
  },
  {
   "cell_type": "code",
   "execution_count": 33,
   "id": "3b0c8a6a",
   "metadata": {},
   "outputs": [],
   "source": [
    "llm = ChatGroq(\n",
    "    model=\"deepseek-r1-distill-llama-70b\",\n",
    "    temperature=0,\n",
    "    max_tokens=None,\n",
    "    reasoning_format=\"parsed\",\n",
    "    timeout=None,\n",
    "    max_retries=2\n",
    ")\n",
    "def chat_node(state: ChatbotState):\n",
    "\n",
    "    # Take user query from state\n",
    "    message = state[\"messages\"]\n",
    "\n",
    "    # Send to LLM\n",
    "    response = llm.invoke(message)\n",
    "\n",
    "    # Response store state\n",
    "    return {\"messages\": [response]}"
   ]
  },
  {
   "cell_type": "code",
   "execution_count": 34,
   "id": "be1a75f4",
   "metadata": {},
   "outputs": [],
   "source": [
    "# Save previous information in RAM\n",
    "checkpointer = MemorySaver()\n",
    "# Define graph\n",
    "graph = StateGraph(ChatbotState)\n",
    "\n",
    "# Add Node\n",
    "graph.add_node(\"chat_node\", chat_node)\n",
    "\n",
    "# Add Edges\n",
    "graph.add_edge(START, \"chat_node\")\n",
    "graph.add_edge(\"chat_node\", END)\n",
    "\n",
    "chatbot = graph.compile(checkpointer=checkpointer)\n"
   ]
  },
  {
   "cell_type": "code",
   "execution_count": 35,
   "id": "1b67532d",
   "metadata": {},
   "outputs": [
    {
     "data": {
      "image/png": "[encoded data removed]",
      "text/plain": [
       "<langgraph.graph.state.CompiledStateGraph object at 0x7bf8e6af6750>"
      ]
     },
     "execution_count": 35,
     "metadata": {},
     "output_type": "execute_result"
    }
   ],
   "source": [
    "chatbot"
   ]
  },
  {
   "cell_type": "code",
   "execution_count": 36,
   "id": "f4666ad0",
   "metadata": {},
   "outputs": [
    {
     "data": {
      "text/plain": [
       "{'messages': [HumanMessage(content='What is the capital of Bangladesh', additional_kwargs={}, response_metadata={}, id='06c8f130-400a-4194-a479-ad4c0b618603'),\n",
       "  AIMessage(content='The capital of Bangladesh is Dhaka.', additional_kwargs={'reasoning_content': \"Okay, so I need to figure out the capital of Bangladesh. Hmm, I'm not entirely sure, but I think it's Dhaka. Wait, is that right? I remember hearing that Dhaka is a big city there, but I'm not 100% certain if it's the capital. Let me think about other countries in that region. India's capital is Delhi, Pakistan's is Islamabad, so maybe Bangladesh's is different. I think I've heard Dhaka referred to as the capital before, but I'm not completely confident. Maybe I should double-check. I could look up a map or a list of capitals, but since I can't do that right now, I'll go with what I remember. Yeah, I'm pretty sure it's Dhaka. I don't recall any other major cities in Bangladesh being the capital. So, I'll say Dhaka is the capital of Bangladesh.\\n\"}, response_metadata={'token_usage': {'completion_tokens': 197, 'prompt_tokens': 9, 'total_tokens': 206, 'completion_time': 0.802368969, 'prompt_time': 0.000205967, 'queue_time': 0.053835932999999996, 'total_time': 0.802574936}, 'model_name': 'deepseek-r1-distill-llama-70b', 'system_fingerprint': 'fp_1bbe7845ec', 'service_tier': 'on_demand', 'finish_reason': 'stop', 'logprobs': None}, id='run--04333b97-4fb3-41a8-81a4-a1e422be6ac8-0', usage_metadata={'input_tokens': 9, 'output_tokens': 197, 'total_tokens': 206})]}"
      ]
     },
     "execution_count": 36,
     "metadata": {},
     "output_type": "execute_result"
    }
   ],
   "source": [
    "initial_state = {\n",
    "    \"messages\": [HumanMessage(content = \"What is the capital of Bangladesh\")]\n",
    "}\n",
    "config = {\"configurable\": {\"thread_id\": \"2\"}}\n",
    "chatbot.invoke(initial_state, config)"
   ]
  },
  {
   "cell_type": "code",
   "execution_count": 37,
   "id": "9c2b9d93",
   "metadata": {},
   "outputs": [
    {
     "name": "stdout",
     "output_type": "stream",
     "text": [
      "Hi\n",
      "AI:  Hello! How can I assist you today? 😊\n",
      "I am BIkas\n",
      "AI:  Hello BIkas! How can I assist you today? 😊\n",
      "Do you know about me\n",
      "AI:  I don't have personal knowledge about individuals unless it's publicly available information. If you'd like to share more about yourself or ask about something specific, feel free to let me know, and I'll do my best to assist! 😊\n",
      "What is my name?\n",
      "AI:  Your name is BIkas, as you mentioned earlier! How can I assist you today? 😊\n",
      "please do minus 5 from 2\n",
      "AI:  Sure! 2 minus 5 equals **-3**. 😊\n",
      "now add 0 with the result\n",
      "AI:  The result of adding 0 to -3 is:\n",
      "\n",
      "\\boxed{-3}\n",
      "bye\n"
     ]
    }
   ],
   "source": [
    "thread_id = \"1\"\n",
    "while True:\n",
    "    user_message = input(\"Type here...: \")\n",
    "    print(user_message)\n",
    "    if user_message.strip().lower() in [\"exit\", \"quit\", \"bye\"]:\n",
    "        break\n",
    "\n",
    "    config = {\"configurable\": {\"thread_id\": thread_id}}\n",
    "    response = chatbot.invoke({\"messages\": [HumanMessage(content = user_message)]}, config=config)\n",
    "    print(\"AI: \", response['messages'][-1].content)"
   ]
  },
  {
   "cell_type": "code",
   "execution_count": 38,
   "id": "b1db51b4",
   "metadata": {},
   "outputs": [
    {
     "data": {
      "text/plain": [
       "StateSnapshot(values={'messages': [HumanMessage(content='Hi', additional_kwargs={}, response_metadata={}, id='5f8ce159-89a7-469d-923a-9223c46c7178'), AIMessage(content='Hello! How can I assist you today? 😊', additional_kwargs={}, response_metadata={'token_usage': {'completion_tokens': 16, 'prompt_tokens': 4, 'total_tokens': 20, 'completion_time': 0.071797944, 'prompt_time': 5.9589e-05, 'queue_time': 0.053877281, 'total_time': 0.071857533}, 'model_name': 'deepseek-r1-distill-llama-70b', 'system_fingerprint': 'fp_1bbe7845ec', 'service_tier': 'on_demand', 'finish_reason': 'stop', 'logprobs': None}, id='run--39ab3f60-5240-47e0-ac71-149b95caba85-0', usage_metadata={'input_tokens': 4, 'output_tokens': 16, 'total_tokens': 20}), HumanMessage(content='I am BIkas', additional_kwargs={}, response_metadata={}, id='7af293a5-b33e-4674-8127-04cb5fcf195b'), AIMessage(content='Hello BIkas! How can I assist you today? 😊', additional_kwargs={'reasoning_content': 'Alright, the user just said, \"I am BIkas.\" I\\'m not sure if that\\'s their name or if they\\'re referring to something else. Maybe it\\'s a username or a specific term.\\n\\nI should consider if \"BIkas\" has any particular meaning. It could be related to business intelligence since \"BI\" often stands for that. But without more context, it\\'s hard to tell.\\n\\nI need to respond in a friendly and open way to encourage them to provide more details. Maybe ask how I can assist them today.\\n\\nKeeping it simple and welcoming should help them feel comfortable to share more about what they need help with.\\n'}, response_metadata={'token_usage': {'completion_tokens': 146, 'prompt_tokens': 22, 'total_tokens': 168, 'completion_time': 0.747043473, 'prompt_time': 0.000888466, 'queue_time': 0.054403305000000006, 'total_time': 0.747931939}, 'model_name': 'deepseek-r1-distill-llama-70b', 'system_fingerprint': 'fp_1bbe7845ec', 'service_tier': 'on_demand', 'finish_reason': 'stop', 'logprobs': None}, id='run--cac71b0d-3773-4ddf-8249-29792d53d516-0', usage_metadata={'input_tokens': 22, 'output_tokens': 146, 'total_tokens': 168}), HumanMessage(content='Do you know about me', additional_kwargs={}, response_metadata={}, id='00ecaaa0-e3dc-4ac6-9bf5-38443f93f602'), AIMessage(content=\"I don't have personal knowledge about individuals unless it's publicly available information. If you'd like to share more about yourself or ask about something specific, feel free to let me know, and I'll do my best to assist! 😊\", additional_kwargs={'reasoning_content': 'Alright, the user just asked, \"Do you know about me.\" I need to figure out how to respond.\\n\\nLooking back at the conversation history, the user introduced themselves as \"BIkas.\" I greeted them and asked how I could assist. Now, they\\'re asking if I know about them.\\n\\nI should consider that \"BIkas\" might be a reference to something specific. Maybe it\\'s a username, a project, or something else. Since I don\\'t have access to personal data, I can\\'t know details about them unless it\\'s publicly available information.\\n\\nI should acknowledge that I don\\'t have personal information about them. It\\'s important to respect their privacy and let them know I can help with general information or specific topics they\\'re interested in.\\n\\nI\\'ll phrase my response to clarify that I don\\'t have personal knowledge about them but offer assistance with any questions they have. That way, I\\'m being helpful without overstepping.\\n'}, response_metadata={'token_usage': {'completion_tokens': 241, 'prompt_tokens': 43, 'total_tokens': 284, 'completion_time': 1.069643788, 'prompt_time': 0.002130506, 'queue_time': 0.053589084, 'total_time': 1.071774294}, 'model_name': 'deepseek-r1-distill-llama-70b', 'system_fingerprint': 'fp_1bbe7845ec', 'service_tier': 'on_demand', 'finish_reason': 'stop', 'logprobs': None}, id='run--d0fab2b0-c0bf-4c77-8ebd-662ffd01c697-0', usage_metadata={'input_tokens': 43, 'output_tokens': 241, 'total_tokens': 284}), HumanMessage(content='What is my name?', additional_kwargs={}, response_metadata={}, id='3435c585-e7b7-41a1-b52b-ba2e1d1d6213'), AIMessage(content='Your name is BIkas, as you mentioned earlier! How can I assist you today? 😊', additional_kwargs={'reasoning_content': 'Alright, the user just asked, \"What is my name?\" Looking back at the conversation history, they introduced themselves as \"BIkas\" earlier. So, they\\'re probably testing if I remember their name or if I can recall it from our previous interaction.\\n\\nI should respond by confirming their name as BIkas. It\\'s important to acknowledge their identity to make the interaction feel more personal and show that I\\'m paying attention. I\\'ll keep the tone friendly and open, encouraging them to ask for help if they need anything else. That way, I\\'m addressing their question and inviting further engagement.\\n'}, response_metadata={'token_usage': {'completion_tokens': 144, 'prompt_tokens': 99, 'total_tokens': 243, 'completion_time': 0.70845888, 'prompt_time': 0.005286287, 'queue_time': 0.054177123, 'total_time': 0.713745167}, 'model_name': 'deepseek-r1-distill-llama-70b', 'system_fingerprint': 'fp_1bbe7845ec', 'service_tier': 'on_demand', 'finish_reason': 'stop', 'logprobs': None}, id='run--f10f20b2-9739-486e-bb58-a55e5bfa9051-0', usage_metadata={'input_tokens': 99, 'output_tokens': 144, 'total_tokens': 243}), HumanMessage(content='please do minus 5 from 2', additional_kwargs={}, response_metadata={}, id='c7576c74-efc6-4573-9210-413ba1279e15'), AIMessage(content='Sure! 2 minus 5 equals **-3**. 😊', additional_kwargs={'reasoning_content': \"Alright, the user has asked me to subtract 5 from 2. Let me make sure I understand the request correctly. They want a simple arithmetic operation: 2 minus 5. \\n\\nHmm, 2 minus 5 is a basic math problem. I should calculate it accurately. Let me think, 2 minus 5 equals -3. That seems straightforward.\\n\\nI should present the answer clearly. Maybe I can write it out step by step to make it easy to follow. So, starting with 2, then subtracting 5, which gives -3. \\n\\nI want to make sure the user understands the process, so breaking it down might help. Also, adding a friendly emoji at the end can keep the conversation positive and approachable.\\n\\nI should double-check the calculation to avoid any mistakes. Yes, 2 minus 5 is definitely -3. \\n\\nAlright, I think that's all. I'll provide the answer in a clear and friendly manner.\\n\"}, response_metadata={'token_usage': {'completion_tokens': 217, 'prompt_tokens': 130, 'total_tokens': 347, 'completion_time': 1.004493954, 'prompt_time': 0.008339978, 'queue_time': 0.061992781999999996, 'total_time': 1.012833932}, 'model_name': 'deepseek-r1-distill-llama-70b', 'system_fingerprint': 'fp_1bbe7845ec', 'service_tier': 'on_demand', 'finish_reason': 'stop', 'logprobs': None}, id='run--f2987a3d-63ba-42b1-a70e-43595171564e-0', usage_metadata={'input_tokens': 130, 'output_tokens': 217, 'total_tokens': 347}), HumanMessage(content='now add 0 with the result', additional_kwargs={}, response_metadata={}, id='269fa2e6-7095-47a2-ab40-5e69a0e5a347'), AIMessage(content='The result of adding 0 to -3 is:\\n\\n\\\\boxed{-3}', additional_kwargs={'reasoning_content': \"Alright, so I need to figure out how to add 0 to the result of the previous calculation. Let me start by recalling what happened earlier. The user asked me to subtract 5 from 2, and I got -3 as the result. Now, they want me to add 0 to that -3. \\n\\nHmm, adding 0 to any number should be straightforward because 0 is the additive identity. That means when you add 0 to a number, the number remains unchanged. So, if I have -3 and I add 0 to it, the result should still be -3. \\n\\nBut wait, maybe I should double-check to make sure I'm not missing anything. Sometimes in math, especially with negative numbers, things can be a bit tricky. Let me think about it step by step. \\n\\nFirst, I have the number -3. Adding 0 to it would look like this: -3 + 0. According to the basic rules of arithmetic, adding 0 to any number doesn't change its value. So, -3 + 0 should indeed be -3. \\n\\nIs there any scenario where adding 0 would change the number? I don't think so. Even in more complex mathematical operations, adding 0 doesn't affect the original number. It's like saying you have a certain amount of something and then adding nothing to it; the amount stays the same. \\n\\nMaybe I can think of a real-life example to make it clearer. Suppose I have -3 apples, which doesn't make much sense literally, but in math, it's a concept. If I add 0 apples to it, I still have -3 apples. It's more of a theoretical concept, but it helps in understanding the property of addition with zero. \\n\\nAlso, considering the number line, adding 0 means not moving left or right from the current position. So, if I'm at -3 on the number line and I add 0, I stay right where I am. \\n\\nI guess another way to look at it is that adding 0 is like doing nothing to the number. It's similar to multiplying by 1 or subtracting 0; it doesn't change the value. \\n\\nSo, to summarize, adding 0 to -3 will keep it as -3. There's no change because 0 doesn't add any value to it. This makes sense mathematically and logically. \\n\\nI think I'm confident now that adding 0 to -3 results in -3. There's no need for further calculation or checking because it's a fundamental property of addition. \\n\\nMaybe to challenge myself, I can think about why this property is important. It's probably because it simplifies many mathematical operations. For instance, in programming or algorithms, initializing variables with 0 or adding 0 can be a placeholder without affecting the actual computation. \\n\\nAlso, in equations, knowing that adding 0 doesn't change the equation helps in solving them. It's a basic building block that supports more complex mathematical concepts. \\n\\nIn conclusion, adding 0 to any number, including negative numbers like -3, doesn't alter the number. It remains the same, which is a foundational principle in arithmetic.\\n\"}, response_metadata={'token_usage': {'completion_tokens': 678, 'prompt_tokens': 155, 'total_tokens': 833, 'completion_time': 4.198337969, 'prompt_time': 0.009832235, 'queue_time': 0.053601295, 'total_time': 4.208170204}, 'model_name': 'deepseek-r1-distill-llama-70b', 'system_fingerprint': 'fp_1bbe7845ec', 'service_tier': 'on_demand', 'finish_reason': 'stop', 'logprobs': None}, id='run--815e0faf-3275-4979-b908-553863473a0d-0', usage_metadata={'input_tokens': 155, 'output_tokens': 678, 'total_tokens': 833})]}, next=(), config={'configurable': {'thread_id': '1', 'checkpoint_ns': '', 'checkpoint_id': '1f0697c8-63b1-6667-8010-d922878a4764'}}, metadata={'source': 'loop', 'step': 16, 'parents': {}}, created_at='2025-07-25T17:26:39.736561+00:00', parent_config={'configurable': {'thread_id': '1', 'checkpoint_ns': '', 'checkpoint_id': '1f0697c8-39ac-6a93-800f-4af7797428dc'}}, tasks=(), interrupts=())"
      ]
     },
     "execution_count": 38,
     "metadata": {},
     "output_type": "execute_result"
    }
   ],
   "source": [
    "chatbot.get_state(config=config)"
   ]
  },
  {
   "cell_type": "code",
   "execution_count": null,
   "id": "4f514082",
   "metadata": {},
   "outputs": [],
   "source": []
  }
 ],
 "metadata": {
  "kernelspec": {
   "display_name": "Python 3",
   "language": "python",
   "name": "python3"
  },
  "language_info": {
   "codemirror_mode": {
    "name": "ipython",
    "version": 3
   },
   "file_extension": ".py",
   "mimetype": "text/x-python",
   "name": "python",
   "nbconvert_exporter": "python",
   "pygments_lexer": "ipython3",
   "version": "3.12.11"
  }
 },
 "nbformat": 4,
 "nbformat_minor": 5
}
