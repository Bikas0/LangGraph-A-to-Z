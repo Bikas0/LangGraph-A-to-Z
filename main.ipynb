{
 "cells": [
  {
   "cell_type": "markdown",
   "metadata": {},
   "source": [
    "## BMI Calculator"
   ]
  },
  {
   "cell_type": "code",
   "execution_count": 2,
   "metadata": {},
   "outputs": [],
   "source": [
    "from langgraph.graph import StateGraph, START, END\n",
    "from typing import TypedDict\n",
    "from IPython.display import Image"
   ]
  },
  {
   "cell_type": "code",
   "execution_count": 3,
   "metadata": {},
   "outputs": [],
   "source": [
    "# Define state\n",
    "class BMIState(TypedDict):\n",
    "\n",
    "    weight_kg: float\n",
    "    height_m: float\n",
    "    bmi: float\n",
    "    category: str"
   ]
  },
  {
   "cell_type": "code",
   "execution_count": 4,
   "metadata": {},
   "outputs": [],
   "source": [
    "def calculate_bmi(state: BMIState) -> BMIState:\n",
    "    weight = state['weight_kg']\n",
    "    height = state[\"height_m\"]\n",
    "\n",
    "    bmi = weight/(height**2)\n",
    "\n",
    "    state[\"bmi\"] = round(bmi, 2)\n",
    "\n",
    "    return state"
   ]
  },
  {
   "cell_type": "code",
   "execution_count": 5,
   "metadata": {},
   "outputs": [],
   "source": [
    "def label_bmi(state: BMIState) -> BMIState:\n",
    "    bmi = state[\"bmi\"]\n",
    "\n",
    "    if bmi < 18.5:\n",
    "        state[\"category\"] = \"Underweight\"\n",
    "    elif 18.5 <= bmi < 25:\n",
    "        state[\"category\"] = \"Normal\"\n",
    "    elif 25 <= bmi < 30:\n",
    "        state[\"category\"] = \"Overweight\"\n",
    "    else:\n",
    "        state[\"category\"] = \"Obese\"\n",
    "\n",
    "    return state\n"
   ]
  },
  {
   "cell_type": "code",
   "execution_count": 6,
   "metadata": {},
   "outputs": [],
   "source": [
    "# Define Graph\n",
    "graph = StateGraph(BMIState)\n",
    "\n",
    "# Add nodes to graph\n",
    "graph.add_node('calculate_bmi', calculate_bmi)\n",
    "graph.add_node('label_bmi', label_bmi)\n",
    "\n",
    "# Add edges to graph\n",
    "graph.add_edge(START, 'calculate_bmi')\n",
    "graph.add_edge('calculate_bmi', 'label_bmi')\n",
    "graph.add_edge('label_bmi', END)\n",
    "\n",
    "# Compile the graph \n",
    "workflow = graph.compile()"
   ]
  },
  {
   "cell_type": "code",
   "execution_count": 7,
   "metadata": {},
   "outputs": [
    {
     "name": "stdout",
     "output_type": "stream",
     "text": [
      "{'weight_kg': 64, 'height_m': 1.68, 'bmi': 22.68, 'category': 'Normal'}\n"
     ]
    }
   ],
   "source": [
    "# Execute the graph\n",
    "initial_state = {\"weight_kg\": 64, \"height_m\": 1.68}\n",
    "final_state = workflow.invoke(initial_state)\n",
    "print(final_state)"
   ]
  },
  {
   "cell_type": "code",
   "execution_count": 8,
   "metadata": {},
   "outputs": [
    {
     "data": {
      "image/png": "[encoded data removed]",
      "text/plain": [
       "<IPython.core.display.Image object>"
      ]
     },
     "execution_count": 8,
     "metadata": {},
     "output_type": "execute_result"
    }
   ],
   "source": [
    "Image(workflow.get_graph().draw_mermaid_png())"
   ]
  },
  {
   "cell_type": "markdown",
   "metadata": {},
   "source": [
    "## LLM Workflow"
   ]
  },
  {
   "cell_type": "code",
   "execution_count": 9,
   "metadata": {},
   "outputs": [],
   "source": [
    "from langgraph.graph import StateGraph, START, END\n",
    "from typing import TypedDict\n",
    "from langchain_groq import ChatGroq\n",
    "from IPython.display import Image\n",
    "from dotenv import load_dotenv"
   ]
  },
  {
   "cell_type": "code",
   "execution_count": 10,
   "metadata": {},
   "outputs": [
    {
     "data": {
      "text/plain": [
       "True"
      ]
     },
     "execution_count": 10,
     "metadata": {},
     "output_type": "execute_result"
    }
   ],
   "source": [
    "load_dotenv()"
   ]
  },
  {
   "cell_type": "code",
   "execution_count": 11,
   "metadata": {},
   "outputs": [],
   "source": [
    "model = llm = ChatGroq(\n",
    "    model=\"deepseek-r1-distill-llama-70b\",\n",
    "    temperature=0,\n",
    "    max_tokens=None,\n",
    "    reasoning_format=\"parsed\",\n",
    "    timeout=None,\n",
    "    max_retries=2\n",
    ")"
   ]
  },
  {
   "cell_type": "code",
   "execution_count": 12,
   "metadata": {},
   "outputs": [],
   "source": [
    "# Define State\n",
    "\n",
    "class LLMState(TypedDict):\n",
    "\n",
    "    question: str\n",
    "    answer: str"
   ]
  },
  {
   "cell_type": "code",
   "execution_count": 13,
   "metadata": {},
   "outputs": [],
   "source": [
    "def llm_qa(state: LLMState) -> LLMState:\n",
    "    \n",
    "    # Extract the question from state\n",
    "    question = state[\"question\"]\n",
    "\n",
    "    # Form a prompt\n",
    "    prompt = f\"Answer the following question {question}\"\n",
    "\n",
    "    # Ask the questions\n",
    "    answer = model.invoke(prompt).content\n",
    "\n",
    "    # Update the answer in the state\n",
    "\n",
    "    state[\"answer\"] = answer\n",
    "\n",
    "    return state"
   ]
  },
  {
   "cell_type": "code",
   "execution_count": 14,
   "metadata": {},
   "outputs": [],
   "source": [
    "# Define the Graph\n",
    "graph = StateGraph(LLMState)\n",
    "\n",
    "# Add nodes to Graph\n",
    "graph.add_node(\"llm_qa\", llm_qa)\n",
    "\n",
    "# Add edges to the graph\n",
    "graph.add_edge(START, \"llm_qa\")\n",
    "graph.add_edge(\"llm_qa\", END)\n",
    "\n",
    "# Compile\n",
    "workflow = graph.compile()"
   ]
  },
  {
   "cell_type": "code",
   "execution_count": 15,
   "metadata": {},
   "outputs": [
    {
     "data": {
      "image/png": "[encoded data removed]",
      "text/plain": [
       "<IPython.core.display.Image object>"
      ]
     },
     "execution_count": 15,
     "metadata": {},
     "output_type": "execute_result"
    }
   ],
   "source": [
    "Image(workflow.get_graph().draw_mermaid_png())"
   ]
  },
  {
   "cell_type": "code",
   "execution_count": 16,
   "metadata": {},
   "outputs": [
    {
     "name": "stdout",
     "output_type": "stream",
     "text": [
      "The Moon's distance from Earth is not constant due to its elliptical orbit. Here are the key points:\n",
      "\n",
      "1. **Elliptical Orbit**: The Moon orbits Earth in an ellipse, leading to varying distances. The closest point is called perigee, and the farthest is apogee.\n",
      "\n",
      "2. **Average Distance**: The average distance from Earth to the Moon is approximately 238,900 miles (384,400 kilometers).\n",
      "\n",
      "3. **Perigee and Apogee**: \n",
      "   - Perigee: The Moon is about 225,622 miles (363,300 kilometers) away.\n",
      "   - Apogee: The Moon is approximately 252,088 miles (405,500 kilometers) away.\n",
      "\n",
      "4. **Tidal Effects**: The varying distance affects Earth's tides, with closer distances resulting in stronger gravitational pull and more pronounced tides.\n",
      "\n",
      "5. **Increasing Distance**: The Moon is slowly moving away from Earth at a rate of about 1.5 inches (3.8 centimeters) per year due to tidal interactions.\n",
      "\n",
      "These factors collectively describe the Moon's varying distance from Earth and its gradual movement away over time.\n"
     ]
    }
   ],
   "source": [
    "initial_state = {\"question\": \"How far is moon from the Earth?\"}\n",
    "\n",
    "final_state = workflow.invoke(initial_state)\n",
    "print(final_state[\"answer\"])"
   ]
  },
  {
   "cell_type": "markdown",
   "metadata": {},
   "source": [
    "## Pompt Chaining"
   ]
  },
  {
   "cell_type": "code",
   "execution_count": 17,
   "metadata": {},
   "outputs": [],
   "source": [
    "from langgraph.graph import StateGraph, START, END\n",
    "from typing import TypedDict\n",
    "from IPython.display import Image\n",
    "from dotenv import load_dotenv\n",
    "from langchain_groq import ChatGroq"
   ]
  },
  {
   "cell_type": "code",
   "execution_count": 18,
   "metadata": {},
   "outputs": [
    {
     "data": {
      "text/plain": [
       "True"
      ]
     },
     "execution_count": 18,
     "metadata": {},
     "output_type": "execute_result"
    }
   ],
   "source": [
    "load_dotenv()"
   ]
  },
  {
   "cell_type": "code",
   "execution_count": 19,
   "metadata": {},
   "outputs": [],
   "source": [
    "model = llm = ChatGroq(\n",
    "    model=\"deepseek-r1-distill-llama-70b\",\n",
    "    temperature=0,\n",
    "    max_tokens=None,\n",
    "    reasoning_format=\"parsed\",\n",
    "    timeout=None,\n",
    "    max_retries=2\n",
    ")"
   ]
  },
  {
   "cell_type": "code",
   "execution_count": 20,
   "metadata": {},
   "outputs": [],
   "source": [
    "# Define State\n",
    "\n",
    "class BlogState(TypedDict):\n",
    "\n",
    "    title: str\n",
    "    outline: str\n",
    "    content: str"
   ]
  },
  {
   "cell_type": "code",
   "execution_count": 21,
   "metadata": {},
   "outputs": [],
   "source": [
    "def create_outline(state: BlogState) -> BlogState:\n",
    "\n",
    "    # fetch title\n",
    "    title = state[\"title\"]\n",
    "\n",
    "    # call llm gen outline\n",
    "    prompt = f\"Generate a detailed outline for a blog on the topic - {title}\"\n",
    "    outline = model.invoke(prompt).content\n",
    "\n",
    "    # Update state\n",
    "\n",
    "    state[\"outline\"] = outline\n",
    "\n",
    "    return state"
   ]
  },
  {
   "cell_type": "code",
   "execution_count": 22,
   "metadata": {},
   "outputs": [],
   "source": [
    "def create_blog(state: BlogState) -> BlogState:\n",
    "\n",
    "    # fetch title\n",
    "    title = state[\"title\"]\n",
    "    outline = state[\"outline\"]\n",
    "\n",
    "    prompt = f\"Write a etailed blog on the title - {title} using the following outline \\n {outline}\"\n",
    "    content = model.invoke(prompt).content\n",
    "\n",
    "    # Update state\n",
    "\n",
    "    state[\"content\"] = content\n",
    "\n",
    "    return state"
   ]
  },
  {
   "cell_type": "code",
   "execution_count": 23,
   "metadata": {},
   "outputs": [],
   "source": [
    "# Define graph\n",
    "\n",
    "graph = StateGraph(BlogState)\n",
    "\n",
    "# Define Nodes\n",
    "graph.add_node(\"create_outline\", create_outline)\n",
    "graph.add_node(\"create_blog\", create_blog)\n",
    "\n",
    "# Define Edges\n",
    "graph.add_edge(START, \"create_outline\")\n",
    "graph.add_edge(\"create_outline\", \"create_blog\")\n",
    "graph.add_edge(\"create_blog\", END)\n",
    "\n",
    "\n",
    "# Compile\n",
    "workflow = graph.compile()\n"
   ]
  },
  {
   "cell_type": "code",
   "execution_count": 24,
   "metadata": {},
   "outputs": [
    {
     "data": {
      "image/png": "[encoded data removed]",
      "text/plain": [
       "<IPython.core.display.Image object>"
      ]
     },
     "execution_count": 24,
     "metadata": {},
     "output_type": "execute_result"
    }
   ],
   "source": [
    "Image(workflow.get_graph().draw_mermaid_png())"
   ]
  },
  {
   "cell_type": "code",
   "execution_count": 25,
   "metadata": {},
   "outputs": [
    {
     "name": "stdout",
     "output_type": "stream",
     "text": [
      "{'title': 'Rise of AI in Bangladesh', 'outline': '**Detailed Outline for Blog: \"The Rise of AI in Bangladesh\"**\\n\\n---\\n\\n**I. Introduction**\\n   - **Global Context of AI**: Brief overview of AI\\'s growing importance worldwide.\\n   - **Bangladesh\\'s Unique Position**: Highlight Bangladesh\\'s economic growth and young population as a unique case for AI adoption.\\n\\n**II. Background on Artificial Intelligence**\\n   - **Definition and Evolution**: Explain AI, its history, and modern advancements.\\n   - **Global Impact**: Discuss AI\\'s influence across industries globally.\\n\\n**III. Bangladesh\\'s Tech Landscape**\\n   - **Current IT Sector Development**: Overview of the IT sector\\'s growth.\\n   - **Government Initiatives**: Discuss \"Digital Bangladesh\" and other tech-promoting policies.\\n   - **Startup Ecosystem**: Growth of startups and innovation hubs.\\n\\n**IV. Key Sectors Impacted by AI in Bangladesh**\\n   - **Healthcare**: AI applications in diagnostics, telemedicine, and personalized treatment.\\n   - **Education**: AI in e-learning, personalized education, and educational apps.\\n   - **Agriculture**: Precision agriculture, crop prediction, and supply chain optimization.\\n   - **Financial Services**: AI in mobile banking, fraud detection, and fintech.\\n   - **Manufacturing and Supply Chain**: Predictive maintenance and logistics optimization.\\n\\n**V. Success Stories and Case Studies**\\n   - **Local Startups and Companies**: Examples of successful AI implementations.\\n   - **Real-World Impact**: How AI has improved efficiency and innovation in specific industries.\\n\\n**VI. Challenges in AI Adoption**\\n   - **Infrastructure Issues**: Internet connectivity and technology access in rural areas.\\n   - **Skilled Workforce**: Need for AI experts and upskilling initiatives.\\n   - **Data Privacy and Regulations**: Legal and ethical considerations.\\n   - **Cultural Factors**: Resistance to change and digital literacy.\\n\\n**VII. Future Potential and Opportunities**\\n   - **Emerging Trends**: AI in renewable energy, smart cities, and IoT.\\n   - **Government and Private Partnerships**: Collaborative efforts for AI development.\\n   - **Regional AI Hub Potential**: Bangladesh\\'s potential as a future AI hub.\\n\\n**VIII. Expert Opinions and Insights**\\n   - **Quotes and Interviews**: Insights from professionals in AI and related fields.\\n\\n**IX. Conclusion**\\n   - **Summary of Key Points**: Recap of AI\\'s rise and impact in Bangladesh.\\n   - **Call to Action**: Encourage investment, collaboration, and policy support for AI growth.\\n\\n---\\n\\nThis outline provides a structured approach to exploring the rise of AI in Bangladesh, ensuring a comprehensive and engaging blog that appeals to a broad audience.', 'content': '**The Rise of AI in Bangladesh: A Comprehensive Overview**\\n\\n**Introduction**\\n\\nIn an era where Artificial Intelligence (AI) is revolutionizing industries worldwide, Bangladesh emerges as a unique case with its robust economic growth and a youthful demographic. This blog explores the rise of AI in Bangladesh, examining its potential, challenges, and future prospects.\\n\\n**Background on Artificial Intelligence**\\n\\nAI, defined as machines performing tasks that typically require human intelligence, has evolved significantly from its inception. From early rule-based systems to modern machine learning, AI now influences sectors like healthcare, finance, and education globally, driving innovation and efficiency.\\n\\n**Bangladesh\\'s Tech Landscape**\\n\\nBangladesh\\'s IT sector has grown remarkably, with the government\\'s \"Digital Bangladesh\" initiative spearheading technological advancement. This policy aims to integrate technology into all aspects of society, fostering a digital economy. The startup ecosystem is thriving, with innovation hubs and incubators nurturing new ideas, supported by a young, tech-savvy population.\\n\\n**Key Sectors Impacted by AI**\\n\\n- **Healthcare:** AI enhances diagnostics and telemedicine, improving access to healthcare, especially in rural areas.\\n- **Education:** Personalized learning through AI-driven platforms is transforming education, making it more accessible.\\n- **Agriculture:** Precision agriculture optimizes crop yields and resource use, boosting productivity.\\n- **Financial Services:** AI detects fraud and enhances customer service in banking.\\n- **Manufacturing:** Predictive maintenance and logistics optimization improve efficiency.\\n\\n**Success Stories and Case Studies**\\n\\nLocal startups like [Example Startup] have successfully implemented AI in areas like agriculture, demonstrating tangible impact. These success stories highlight AI\\'s potential to drive innovation and efficiency across industries.\\n\\n**Challenges in AI Adoption**\\n\\nDespite potential, challenges persist. Infrastructure limitations, such as internet connectivity in rural areas, hinder AI adoption. The need for skilled professionals and upskilling programs is critical. Data privacy concerns and cultural resistance to change also pose barriers.\\n\\n**Future Potential and Opportunities**\\n\\nEmerging trends like AI in renewable energy and smart cities present new opportunities. Government-private partnerships are essential for fostering AI growth, positioning Bangladesh as a regional AI hub.\\n\\n**Expert Opinions and Insights**\\n\\nExperts emphasize the need for strategic investments and policies to harness AI\\'s potential. Collaboration between academia and industry is crucial for developing a skilled workforce.\\n\\n**Conclusion**\\n\\nAI holds immense promise for Bangladesh, with opportunities across multiple sectors. Addressing challenges through investment, collaboration, and policy support is essential. The call to action is clear: stakeholders must work together to ensure AI drives sustainable growth and innovation in Bangladesh.\\n\\nThis blog provides a balanced view of AI\\'s rise in Bangladesh, highlighting both opportunities and challenges, offering a roadmap for future growth.'}\n"
     ]
    }
   ],
   "source": [
    "initial_state = {\"title\": \"Rise of AI in Bangladesh\"}\n",
    "final_state = workflow.invoke(initial_state)\n",
    "print(final_state)"
   ]
  },
  {
   "cell_type": "code",
   "execution_count": 26,
   "metadata": {},
   "outputs": [
    {
     "name": "stdout",
     "output_type": "stream",
     "text": [
      "**Detailed Outline for Blog: \"The Rise of AI in Bangladesh\"**\n",
      "\n",
      "---\n",
      "\n",
      "**I. Introduction**\n",
      "   - **Global Context of AI**: Brief overview of AI's growing importance worldwide.\n",
      "   - **Bangladesh's Unique Position**: Highlight Bangladesh's economic growth and young population as a unique case for AI adoption.\n",
      "\n",
      "**II. Background on Artificial Intelligence**\n",
      "   - **Definition and Evolution**: Explain AI, its history, and modern advancements.\n",
      "   - **Global Impact**: Discuss AI's influence across industries globally.\n",
      "\n",
      "**III. Bangladesh's Tech Landscape**\n",
      "   - **Current IT Sector Development**: Overview of the IT sector's growth.\n",
      "   - **Government Initiatives**: Discuss \"Digital Bangladesh\" and other tech-promoting policies.\n",
      "   - **Startup Ecosystem**: Growth of startups and innovation hubs.\n",
      "\n",
      "**IV. Key Sectors Impacted by AI in Bangladesh**\n",
      "   - **Healthcare**: AI applications in diagnostics, telemedicine, and personalized treatment.\n",
      "   - **Education**: AI in e-learning, personalized education, and educational apps.\n",
      "   - **Agriculture**: Precision agriculture, crop prediction, and supply chain optimization.\n",
      "   - **Financial Services**: AI in mobile banking, fraud detection, and fintech.\n",
      "   - **Manufacturing and Supply Chain**: Predictive maintenance and logistics optimization.\n",
      "\n",
      "**V. Success Stories and Case Studies**\n",
      "   - **Local Startups and Companies**: Examples of successful AI implementations.\n",
      "   - **Real-World Impact**: How AI has improved efficiency and innovation in specific industries.\n",
      "\n",
      "**VI. Challenges in AI Adoption**\n",
      "   - **Infrastructure Issues**: Internet connectivity and technology access in rural areas.\n",
      "   - **Skilled Workforce**: Need for AI experts and upskilling initiatives.\n",
      "   - **Data Privacy and Regulations**: Legal and ethical considerations.\n",
      "   - **Cultural Factors**: Resistance to change and digital literacy.\n",
      "\n",
      "**VII. Future Potential and Opportunities**\n",
      "   - **Emerging Trends**: AI in renewable energy, smart cities, and IoT.\n",
      "   - **Government and Private Partnerships**: Collaborative efforts for AI development.\n",
      "   - **Regional AI Hub Potential**: Bangladesh's potential as a future AI hub.\n",
      "\n",
      "**VIII. Expert Opinions and Insights**\n",
      "   - **Quotes and Interviews**: Insights from professionals in AI and related fields.\n",
      "\n",
      "**IX. Conclusion**\n",
      "   - **Summary of Key Points**: Recap of AI's rise and impact in Bangladesh.\n",
      "   - **Call to Action**: Encourage investment, collaboration, and policy support for AI growth.\n",
      "\n",
      "---\n",
      "\n",
      "This outline provides a structured approach to exploring the rise of AI in Bangladesh, ensuring a comprehensive and engaging blog that appeals to a broad audience.\n"
     ]
    }
   ],
   "source": [
    "print(final_state[\"outline\"])"
   ]
  },
  {
   "cell_type": "code",
   "execution_count": 27,
   "metadata": {},
   "outputs": [
    {
     "name": "stdout",
     "output_type": "stream",
     "text": [
      "**The Rise of AI in Bangladesh: A Comprehensive Overview**\n",
      "\n",
      "**Introduction**\n",
      "\n",
      "In an era where Artificial Intelligence (AI) is revolutionizing industries worldwide, Bangladesh emerges as a unique case with its robust economic growth and a youthful demographic. This blog explores the rise of AI in Bangladesh, examining its potential, challenges, and future prospects.\n",
      "\n",
      "**Background on Artificial Intelligence**\n",
      "\n",
      "AI, defined as machines performing tasks that typically require human intelligence, has evolved significantly from its inception. From early rule-based systems to modern machine learning, AI now influences sectors like healthcare, finance, and education globally, driving innovation and efficiency.\n",
      "\n",
      "**Bangladesh's Tech Landscape**\n",
      "\n",
      "Bangladesh's IT sector has grown remarkably, with the government's \"Digital Bangladesh\" initiative spearheading technological advancement. This policy aims to integrate technology into all aspects of society, fostering a digital economy. The startup ecosystem is thriving, with innovation hubs and incubators nurturing new ideas, supported by a young, tech-savvy population.\n",
      "\n",
      "**Key Sectors Impacted by AI**\n",
      "\n",
      "- **Healthcare:** AI enhances diagnostics and telemedicine, improving access to healthcare, especially in rural areas.\n",
      "- **Education:** Personalized learning through AI-driven platforms is transforming education, making it more accessible.\n",
      "- **Agriculture:** Precision agriculture optimizes crop yields and resource use, boosting productivity.\n",
      "- **Financial Services:** AI detects fraud and enhances customer service in banking.\n",
      "- **Manufacturing:** Predictive maintenance and logistics optimization improve efficiency.\n",
      "\n",
      "**Success Stories and Case Studies**\n",
      "\n",
      "Local startups like [Example Startup] have successfully implemented AI in areas like agriculture, demonstrating tangible impact. These success stories highlight AI's potential to drive innovation and efficiency across industries.\n",
      "\n",
      "**Challenges in AI Adoption**\n",
      "\n",
      "Despite potential, challenges persist. Infrastructure limitations, such as internet connectivity in rural areas, hinder AI adoption. The need for skilled professionals and upskilling programs is critical. Data privacy concerns and cultural resistance to change also pose barriers.\n",
      "\n",
      "**Future Potential and Opportunities**\n",
      "\n",
      "Emerging trends like AI in renewable energy and smart cities present new opportunities. Government-private partnerships are essential for fostering AI growth, positioning Bangladesh as a regional AI hub.\n",
      "\n",
      "**Expert Opinions and Insights**\n",
      "\n",
      "Experts emphasize the need for strategic investments and policies to harness AI's potential. Collaboration between academia and industry is crucial for developing a skilled workforce.\n",
      "\n",
      "**Conclusion**\n",
      "\n",
      "AI holds immense promise for Bangladesh, with opportunities across multiple sectors. Addressing challenges through investment, collaboration, and policy support is essential. The call to action is clear: stakeholders must work together to ensure AI drives sustainable growth and innovation in Bangladesh.\n",
      "\n",
      "This blog provides a balanced view of AI's rise in Bangladesh, highlighting both opportunities and challenges, offering a roadmap for future growth.\n"
     ]
    }
   ],
   "source": [
    "print(final_state[\"content\"])"
   ]
  },
  {
   "cell_type": "markdown",
   "metadata": {},
   "source": [
    "## Parallel Workflows in LangGraph"
   ]
  },
  {
   "cell_type": "code",
   "execution_count": 28,
   "metadata": {},
   "outputs": [],
   "source": [
    "from langgraph.graph import StateGraph, START, END\n",
    "from typing import TypedDict"
   ]
  },
  {
   "cell_type": "code",
   "execution_count": 29,
   "metadata": {},
   "outputs": [],
   "source": [
    "# Define State\n",
    "\n",
    "class AnalysisPlayerPerformanceState(TypedDict):\n",
    "\n",
    "    runs: int\n",
    "    balls: int\n",
    "    fours: int\n",
    "    sixes: int\n",
    "    strike_rate: float\n",
    "    balls_per_boundary: float\n",
    "    boundary_percent: float\n",
    "    summary: str\n"
   ]
  },
  {
   "cell_type": "code",
   "execution_count": 30,
   "metadata": {},
   "outputs": [],
   "source": [
    "def calculate_sr(state: AnalysisPlayerPerformanceState):\n",
    "\n",
    "    sr = (state[\"runs\"]/state[\"balls\"])*100\n",
    "\n",
    "    return {\"strike_rate\": sr}"
   ]
  },
  {
   "cell_type": "code",
   "execution_count": 31,
   "metadata": {},
   "outputs": [],
   "source": [
    "def calculate_bpb(state: AnalysisPlayerPerformanceState):\n",
    "\n",
    "    bpb = (state[\"balls\"]/state[\"fours\"] + state[\"sixes\"])\n",
    "\n",
    "    return {\"balls_per_boundary\": bpb}"
   ]
  },
  {
   "cell_type": "code",
   "execution_count": 32,
   "metadata": {},
   "outputs": [],
   "source": [
    "def calculate_boundary_percent(state: AnalysisPlayerPerformanceState):\n",
    "\n",
    "    boundary_percent = (((state[\"fours\"]*4) + (state[\"sixes\"]*6))/state[\"runs\"])*100\n",
    "\n",
    "    return {\"boundary_percent\": boundary_percent}\n"
   ]
  },
  {
   "cell_type": "code",
   "execution_count": 33,
   "metadata": {},
   "outputs": [],
   "source": [
    "def summary(state: AnalysisPlayerPerformanceState):\n",
    "\n",
    "    summary = f\"\"\"\n",
    "    Strike Rate - {state[\"strike_rate\"]} \\n\n",
    "    Balls per boundary - {state[\"balls_per_boundary\"]} \\n\n",
    "    Boundary percent - {state[\"boundary_percent\"]}\n",
    "    \"\"\"\n",
    "\n",
    "    return {\"summary\": summary}"
   ]
  },
  {
   "cell_type": "code",
   "execution_count": 34,
   "metadata": {},
   "outputs": [],
   "source": [
    "# Define Graph\n",
    "graph = StateGraph(AnalysisPlayerPerformanceState)\n",
    "\n",
    "# Add Node\n",
    "graph.add_node(\"calculate_sr\", calculate_sr)\n",
    "graph.add_node(\"calculate_bpb\", calculate_bpb)\n",
    "graph.add_node(\"calculate_boundary_percent\", calculate_boundary_percent)\n",
    "graph.add_node(\"summary\", summary)\n",
    "\n",
    "# Add Edge\n",
    "graph.add_edge(START, 'calculate_sr')\n",
    "graph.add_edge(START, 'calculate_bpb')\n",
    "graph.add_edge(START, 'calculate_boundary_percent')\n",
    "\n",
    "graph.add_edge(\"calculate_sr\", 'summary')\n",
    "graph.add_edge(\"calculate_bpb\", 'summary')\n",
    "graph.add_edge(\"calculate_boundary_percent\", 'summary')\n",
    "\n",
    "graph.add_edge(\"calculate_boundary_percent\", END)\n",
    "\n",
    "# Compile\n",
    "workflow = graph.compile()"
   ]
  },
  {
   "cell_type": "code",
   "execution_count": 35,
   "metadata": {},
   "outputs": [
    {
     "data": {
      "image/png": "[encoded data removed]",
      "text/plain": [
       "<IPython.core.display.Image object>"
      ]
     },
     "execution_count": 35,
     "metadata": {},
     "output_type": "execute_result"
    }
   ],
   "source": [
    "Image(workflow.get_graph().draw_mermaid_png())"
   ]
  },
  {
   "cell_type": "code",
   "execution_count": 36,
   "metadata": {},
   "outputs": [],
   "source": [
    "initial_state = {\n",
    "    \"runs\": 100,\n",
    "    \"balls\": 89,\n",
    "    \"fours\": 6,\n",
    "    \"sixes\": 3\n",
    "}\n",
    "\n",
    "final_state = workflow.invoke(initial_state)"
   ]
  },
  {
   "cell_type": "code",
   "execution_count": 37,
   "metadata": {},
   "outputs": [
    {
     "name": "stdout",
     "output_type": "stream",
     "text": [
      "{'runs': 100, 'balls': 89, 'fours': 6, 'sixes': 3, 'strike_rate': 112.35955056179776, 'balls_per_boundary': 17.833333333333336, 'boundary_percent': 42.0, 'summary': '\\n    Strike Rate - 112.35955056179776 \\n\\n    Balls per boundary - 17.833333333333336 \\n\\n    Boundary percent - 42.0\\n    '}\n"
     ]
    }
   ],
   "source": [
    "print(final_state)"
   ]
  },
  {
   "cell_type": "markdown",
   "metadata": {},
   "source": [
    "## Essay Evaluations"
   ]
  },
  {
   "cell_type": "code",
   "execution_count": 38,
   "metadata": {},
   "outputs": [],
   "source": [
    "from langgraph.graph import StateGraph,START, END\n",
    "from langchain_groq import ChatGroq\n",
    "from dotenv import load_dotenv\n",
    "from typing import TypedDict, Annotated\n",
    "from pydantic import BaseModel, Field\n",
    "import operator"
   ]
  },
  {
   "cell_type": "code",
   "execution_count": 39,
   "metadata": {},
   "outputs": [
    {
     "data": {
      "text/plain": [
       "True"
      ]
     },
     "execution_count": 39,
     "metadata": {},
     "output_type": "execute_result"
    }
   ],
   "source": [
    "load_dotenv()"
   ]
  },
  {
   "cell_type": "code",
   "execution_count": null,
   "metadata": {},
   "outputs": [],
   "source": [
    "model = ChatGroq(\n",
    "    model=\"deepseek-r1-distill-llama-70b\",\n",
    "    temperature=0,\n",
    "    max_tokens=None,\n",
    "    reasoning_format=\"parsed\",\n",
    "    timeout=None,\n",
    "    max_retries=2\n",
    ")"
   ]
  },
  {
   "cell_type": "code",
   "execution_count": 41,
   "metadata": {},
   "outputs": [],
   "source": [
    "class EvaluationSchema(BaseModel):\n",
    "\n",
    "    feedback: str = Field(description=\"Detailed feedback for the essay\")\n",
    "    score: int = Field(description=\"Score out of 10\", ge = 0, le = 10)"
   ]
  },
  {
   "cell_type": "code",
   "execution_count": 42,
   "metadata": {},
   "outputs": [],
   "source": [
    "structured_model = model.with_structured_output(EvaluationSchema)"
   ]
  },
  {
   "cell_type": "markdown",
   "metadata": {},
   "source": [
    "###########################################################"
   ]
  },
  {
   "cell_type": "code",
   "execution_count": 43,
   "metadata": {},
   "outputs": [],
   "source": [
    "essay = \"\"\"Bangladesh in the Age of AI\n",
    "As the world enters a transformative era defined by artificial intelligence (AI), Bangladesh stands at a critical juncture — one where it can either emerge as a global leader in AI innovation or risk falling behind in the technology race. The age of AI brings with it immense promise as well as unprecedented challenges, and how Bangladesh navigates this landscape will shape its socio-economic and geopolitical future.\n",
    "\n",
    "Bangladesh's strengths in the AI domain are rooted in its vast pool of skilled engineers, a thriving IT industry, and a growing startup ecosystem. With over 5 million STEM graduates annually and a burgeoning base of AI researchers, Bangladesh possesses the intellectual capital required to build cutting-edge AI systems. Institutions like IITs, IIITs, and IISc have begun fostering AI research, while private players such as TCS, Infosys, and Wipro are integrating AI into their global services. In 2020, the government launched the National AI Strategy (AI for All) with a focus on inclusive growth, aiming to leverage AI in healthcare, agriculture, education, and smart mobility.\n",
    "\n",
    "One of the most promising applications of AI in Bangladesh lies in agriculture, where predictive analytics can guide farmers on optimal sowing times, weather forecasts, and pest control. In healthcare, AI-powered diagnostics can help address Bangladesh’s doctor-patient ratio crisis, particularly in rural areas. Educational platforms are increasingly using AI to personalize learning paths, while smart governance tools are helping improve public service delivery and fraud detection.\n",
    "\n",
    "However, the path to AI-led growth is riddled with challenges. Chief among them is the digital divide. While metropolitan cities may embrace AI-driven solutions, rural Bangladesh continues to struggle with basic internet access and digital literacy. The risk of job displacement due to automation also looms large, especially for low-skilled workers. Without effective skilling and re-skilling programs, AI could exacerbate existing socio-economic inequalities.\n",
    "\n",
    "Another pressing concern is data privacy and ethics. As AI systems rely heavily on vast datasets, ensuring that personal data is used transparently and responsibly becomes vital. Bangladesh is still shaping its data protection laws, and in the absence of a strong regulatory framework, AI systems may risk misuse or bias.\n",
    "\n",
    "To harness AI responsibly, Bangladesh must adopt a multi-stakeholder approach involving the government, academia, industry, and civil society. Policies should promote open datasets, encourage responsible innovation, and ensure ethical AI practices. There is also a need for international collaboration, particularly with countries leading in AI research, to gain strategic advantage and ensure interoperability in global systems.\n",
    "\n",
    "Bangladesh’s demographic dividend, when paired with responsible AI adoption, can unlock massive economic growth, improve governance, and uplift marginalized communities. But this vision will only materialize if AI is seen not merely as a tool for automation, but as an enabler of human-centered development.\n",
    "\n",
    "In conclusion, Bangladesh in the age of AI is a story in the making — one of opportunity, responsibility, and transformation. The decisions we make today will not just determine Bangladesh’s AI trajectory, but also its future as an inclusive, equitable, and innovation-driven society.\"\"\""
   ]
  },
  {
   "cell_type": "code",
   "execution_count": 44,
   "metadata": {},
   "outputs": [
    {
     "data": {
      "text/plain": [
       "EvaluationSchema(feedback=\"The essay provides a comprehensive analysis of Bangladesh's position in the AI era, effectively balancing opportunities and challenges. It is well-structured with clear language, though it could benefit from more specific data and a more concise conclusion.\", score=8)"
      ]
     },
     "execution_count": 44,
     "metadata": {},
     "output_type": "execute_result"
    }
   ],
   "source": [
    "prompt = f'Evaluate the language quality of the following essay and provide a feedback and assign a score out of 10 \\n {essay}'\n",
    "structured_model.invoke(prompt)"
   ]
  },
  {
   "cell_type": "code",
   "execution_count": 45,
   "metadata": {},
   "outputs": [
    {
     "data": {
      "text/plain": [
       "\"The essay provides a comprehensive analysis of Bangladesh's position in the AI era, highlighting both opportunities and challenges. It effectively communicates the potential of AI in various sectors and addresses significant concerns such as the digital divide and data privacy. The structure is logical, and the language is clear. To enhance the essay, incorporating specific examples and expanding on potential solutions would add depth. Overall, it is well-written and presents a balanced perspective.\""
      ]
     },
     "execution_count": 45,
     "metadata": {},
     "output_type": "execute_result"
    }
   ],
   "source": [
    "structured_model.invoke(prompt).feedback"
   ]
  },
  {
   "cell_type": "code",
   "execution_count": 46,
   "metadata": {},
   "outputs": [
    {
     "data": {
      "text/plain": [
       "8"
      ]
     },
     "execution_count": 46,
     "metadata": {},
     "output_type": "execute_result"
    }
   ],
   "source": [
    "structured_model.invoke(prompt).score"
   ]
  },
  {
   "cell_type": "markdown",
   "metadata": {},
   "source": [
    "#############################################################"
   ]
  },
  {
   "cell_type": "code",
   "execution_count": 47,
   "metadata": {},
   "outputs": [],
   "source": [
    "class UPSCState(TypedDict):\n",
    "    \n",
    "    essay: str\n",
    "    language_feedback: str\n",
    "    analysis_feedback: str\n",
    "    clarity_feedback: str\n",
    "    overall_feedback: str\n",
    "    individual_scores: Annotated[list[int], operator.add]\n",
    "    avg_score: float"
   ]
  },
  {
   "cell_type": "code",
   "execution_count": 48,
   "metadata": {},
   "outputs": [],
   "source": [
    "def evaluate_language(state: UPSCState):\n",
    "\n",
    "    prompt = f'Evaluate the language quality of the following essay and provide a feedback and assign a score out of 10 \\n {state[\"essay\"]}'\n",
    "    output = structured_model.invoke(prompt)\n",
    "\n",
    "    return {'language_feedback': output.feedback, 'individual_scores': [output.score]}"
   ]
  },
  {
   "cell_type": "code",
   "execution_count": 49,
   "metadata": {},
   "outputs": [],
   "source": [
    "def evaluate_analysis(state: UPSCState):\n",
    "\n",
    "    prompt = f'Evaluate the depth of analysis of the following essay and provide a feedback and assign a score out of 10 \\n {state[\"essay\"]}'\n",
    "    output = structured_model.invoke(prompt)\n",
    "\n",
    "    return {'analysis_feedback': output.feedback, 'individual_scores': [output.score]}"
   ]
  },
  {
   "cell_type": "code",
   "execution_count": 50,
   "metadata": {},
   "outputs": [],
   "source": [
    "def evaluate_thought(state: UPSCState):\n",
    "\n",
    "    prompt = f'Evaluate the clarity of thought of the following essay and provide a feedback and assign a score out of 10 \\n {state[\"essay\"]}'\n",
    "    output = structured_model.invoke(prompt)\n",
    "\n",
    "    return {'clarity_feedback': output.feedback, 'individual_scores': [output.score]}"
   ]
  },
  {
   "cell_type": "code",
   "execution_count": 51,
   "metadata": {},
   "outputs": [],
   "source": [
    "def final_evaluation(state: UPSCState):\n",
    "\n",
    "    # summary feedback\n",
    "    prompt = f'Based on the following feedbacks create a summarized feedback \\n language feedback - {state[\"language_feedback\"]} \\n depth of analysis feedback - {state[\"analysis_feedback\"]} \\n clarity of thought feedback - {state[\"clarity_feedback\"]}'\n",
    "    overall_feedback = model.invoke(prompt).content\n",
    "\n",
    "    # avg calculate\n",
    "    avg_score = sum(state['individual_scores'])/len(state['individual_scores'])\n",
    "\n",
    "    return {'overall_feedback': overall_feedback, 'avg_score': avg_score}\n",
    "    "
   ]
  },
  {
   "cell_type": "code",
   "execution_count": 52,
   "metadata": {},
   "outputs": [],
   "source": [
    "# Define Graph\n",
    "graph = StateGraph(UPSCState)\n",
    "\n",
    "# Add Node\n",
    "graph.add_node(\"evaluate_language\", evaluate_language)\n",
    "graph.add_node(\"evaluate_analysis\", evaluate_analysis)\n",
    "graph.add_node(\"evaluate_thought\", evaluate_thought)\n",
    "graph.add_node(\"final_evaluation\", final_evaluation)\n",
    "\n",
    "\n",
    "# Add Edge\n",
    "graph.add_edge(START, 'evaluate_language')\n",
    "graph.add_edge(START, 'evaluate_analysis')\n",
    "graph.add_edge(START, 'evaluate_thought')\n",
    "\n",
    "graph.add_edge('evaluate_language', 'final_evaluation')\n",
    "graph.add_edge('evaluate_analysis', 'final_evaluation')\n",
    "graph.add_edge('evaluate_thought', 'final_evaluation')\n",
    "\n",
    "graph.add_edge('final_evaluation', END)\n",
    "\n",
    "workflow = graph.compile()"
   ]
  },
  {
   "cell_type": "code",
   "execution_count": 53,
   "metadata": {},
   "outputs": [
    {
     "data": {
      "image/png": "[encoded data removed]",
      "text/plain": [
       "<langgraph.graph.state.CompiledStateGraph object at 0x7e3ef8ea7740>"
      ]
     },
     "execution_count": 53,
     "metadata": {},
     "output_type": "execute_result"
    }
   ],
   "source": [
    "workflow"
   ]
  },
  {
   "cell_type": "code",
   "execution_count": 54,
   "metadata": {},
   "outputs": [],
   "source": [
    "essay2 = \"\"\"Bangladesh and AI Time\n",
    "\n",
    "Now world change very fast because new tech call Artificial Intel… something (AI). Bangladesh also want become big in this AI thing. If work hard, Bangladesh can go top. But if no careful, Bangladesh go back.\n",
    "\n",
    "Bangladesh have many good. We have smart student, many engine-ear, and good IT peoples. Big company like TCS, Infosys, Wipro already use AI. Government also do program “AI for All”. It want AI in farm, doctor place, school and transport.\n",
    "\n",
    "In farm, AI help farmer know when to put seed, when rain come, how stop bug. In health, AI help doctor see sick early. In school, AI help student learn good. Government office use AI to find bad people and work fast.\n",
    "\n",
    "But problem come also. First is many villager no have phone or internet. So AI not help them. Second, many people lose job because AI and machine do work. Poor people get more bad.\n",
    "\n",
    "One more big problem is privacy. AI need big big data. Who take care? Bangladesh still make data rule. If no strong rule, AI do bad.\n",
    "\n",
    "Bangladesh must all people together – govern, school, company and normal people. We teach AI and make sure AI not bad. Also talk to other country and learn from them.\n",
    "\n",
    "If Bangladesh use AI good way, we become strong, help poor and make better life. But if only rich use AI, and poor no get, then big bad thing happen.\n",
    "\n",
    "So, in short, AI time in Bangladesh have many hope and many danger. We must go right road. AI must help all people, not only some. Then Bangladesh grow big and world say \"good job Bangladesh\".\"\"\"\n"
   ]
  },
  {
   "cell_type": "code",
   "execution_count": 55,
   "metadata": {},
   "outputs": [
    {
     "data": {
      "text/plain": [
       "{'essay': 'Bangladesh and AI Time\\n\\nNow world change very fast because new tech call Artificial Intel… something (AI). Bangladesh also want become big in this AI thing. If work hard, Bangladesh can go top. But if no careful, Bangladesh go back.\\n\\nBangladesh have many good. We have smart student, many engine-ear, and good IT peoples. Big company like TCS, Infosys, Wipro already use AI. Government also do program “AI for All”. It want AI in farm, doctor place, school and transport.\\n\\nIn farm, AI help farmer know when to put seed, when rain come, how stop bug. In health, AI help doctor see sick early. In school, AI help student learn good. Government office use AI to find bad people and work fast.\\n\\nBut problem come also. First is many villager no have phone or internet. So AI not help them. Second, many people lose job because AI and machine do work. Poor people get more bad.\\n\\nOne more big problem is privacy. AI need big big data. Who take care? Bangladesh still make data rule. If no strong rule, AI do bad.\\n\\nBangladesh must all people together – govern, school, company and normal people. We teach AI and make sure AI not bad. Also talk to other country and learn from them.\\n\\nIf Bangladesh use AI good way, we become strong, help poor and make better life. But if only rich use AI, and poor no get, then big bad thing happen.\\n\\nSo, in short, AI time in Bangladesh have many hope and many danger. We must go right road. AI must help all people, not only some. Then Bangladesh grow big and world say \"good job Bangladesh\".',\n",
       " 'language_feedback': \"The essay discusses the potential of AI in Bangladesh, highlighting both opportunities and challenges. It mentions the country's strengths, such as a skilled workforce and government initiatives, and applications of AI in various sectors. However, it also points out issues like digital divide, job displacement, and privacy concerns. The essay is clear but lacks depth and grammatical accuracy.\",\n",
       " 'analysis_feedback': \"The essay provides a good overview of AI's potential in Bangladesh, discussing applications in agriculture, healthcare, education, and governance. It also highlights challenges like digital divide, job displacement, and data privacy. However, the analysis is somewhat superficial, lacking detailed examples and depth in each area. To improve, the essay should explore each point more thoroughly, include specific examples or data, and offer more nuanced recommendations.\",\n",
       " 'clarity_feedback': 'The essay provides a clear and balanced discussion on the potential of AI in Bangladesh, highlighting both opportunities and challenges. It effectively outlines the benefits of AI in various sectors and addresses significant issues like digital divide, job displacement, and data privacy. However, the language is simple and repetitive, with some grammatical errors that affect clarity. The structure could benefit from smoother transitions between ideas and a more cohesive conclusion. Overall, the essay conveys its message well but needs refinement in grammar and flow.',\n",
       " 'overall_feedback': \"The essay presents a clear and balanced discussion on AI's potential in Bangladesh, effectively highlighting both opportunities and challenges across various sectors such as agriculture, healthcare, education, and governance. While it touches on key issues like the digital divide and job displacement, the analysis remains superficial, lacking detailed examples and data. To enhance the essay, it is essential to address grammatical errors and repetitive language, improve structural flow with smoother transitions, and conclude with a more cohesive summary. Incorporating specific examples and nuanced recommendations would add depth and strengthen the overall argument.\",\n",
       " 'individual_scores': [6, 6, 7],\n",
       " 'avg_score': 6.333333333333333}"
      ]
     },
     "execution_count": 55,
     "metadata": {},
     "output_type": "execute_result"
    }
   ],
   "source": [
    "intial_state = {\n",
    "    'essay': essay2\n",
    "}\n",
    "\n",
    "workflow.invoke(intial_state)"
   ]
  },
  {
   "cell_type": "markdown",
   "metadata": {},
   "source": [
    "## Iterative Workflows in LangGraph"
   ]
  },
  {
   "cell_type": "code",
   "execution_count": 1,
   "metadata": {},
   "outputs": [],
   "source": [
    "from langgraph.graph import StateGraph, START, END\n",
    "from dotenv import load_dotenv\n",
    "from typing import TypedDict, Annotated, Literal\n",
    "from langchain_groq import ChatGroq\n",
    "from langchain_core.messages import SystemMessage, HumanMessage\n",
    "import operator\n",
    "from pydantic import BaseModel, Field"
   ]
  },
  {
   "cell_type": "code",
   "execution_count": 2,
   "metadata": {},
   "outputs": [
    {
     "data": {
      "text/plain": [
       "True"
      ]
     },
     "execution_count": 2,
     "metadata": {},
     "output_type": "execute_result"
    }
   ],
   "source": [
    "load_dotenv()"
   ]
  },
  {
   "cell_type": "code",
   "execution_count": 3,
   "metadata": {},
   "outputs": [],
   "source": [
    "generate_llm = ChatGroq(\n",
    "    model=\"deepseek-r1-distill-llama-70b\",\n",
    "    temperature=0,\n",
    "    max_tokens=None,\n",
    "    reasoning_format=\"parsed\",\n",
    "    timeout=None,\n",
    "    max_retries=2\n",
    ")\n",
    "\n",
    "evaluator_llm = ChatGroq(\n",
    "    model=\"deepseek-r1-distill-llama-70b\",\n",
    "    temperature=0,\n",
    "    max_tokens=None,\n",
    "    reasoning_format=\"parsed\",\n",
    "    timeout=None,\n",
    "    max_retries=2\n",
    ")\n",
    "\n",
    "optimizer_llm = ChatGroq(\n",
    "    model=\"deepseek-r1-distill-llama-70b\",\n",
    "    temperature=0,\n",
    "    max_tokens=None,\n",
    "    reasoning_format=\"parsed\",\n",
    "    timeout=None,\n",
    "    max_retries=2\n",
    ")"
   ]
  },
  {
   "cell_type": "code",
   "execution_count": 4,
   "metadata": {},
   "outputs": [],
   "source": [
    "class TweetEvaluation(BaseModel):\n",
    "    evaluation: Literal[\"approved\", \"needs_improvement\"] = Field(..., description=\"Final evaluation result.\")\n",
    "    feedback: str = Field(..., description=\"feedback for the tweet.\")"
   ]
  },
  {
   "cell_type": "code",
   "execution_count": 5,
   "metadata": {},
   "outputs": [],
   "source": [
    "structured_evaluator_llm = evaluator_llm.with_structured_output(TweetEvaluation)"
   ]
  },
  {
   "cell_type": "code",
   "execution_count": 6,
   "metadata": {},
   "outputs": [],
   "source": [
    "class TweetState(TypedDict):\n",
    "\n",
    "    topic: str\n",
    "    tweet: str\n",
    "    evaluation: Literal[\"approved\", \"needs_improvement\"]\n",
    "    feedback: str\n",
    "    iteration: int\n",
    "    max_iteration: int\n",
    "\n",
    "    tweet_history: Annotated[list[str], operator.add]\n",
    "    feedback_history: Annotated[list[str], operator.add]"
   ]
  },
  {
   "cell_type": "code",
   "execution_count": 7,
   "metadata": {},
   "outputs": [],
   "source": [
    "def generate_tweet(state: TweetState):\n",
    "\n",
    "    # Prompt\n",
    "    messages = [\n",
    "        SystemMessage(content=\"You are a funny and clever Twitter/X influencer.\"),\n",
    "        HumanMessage(content=f\"\"\"\n",
    "                     \n",
    "                    Write a short, original, and hilarious tweet on the topic: \"{state['topic']}\".\n",
    "\n",
    "                    Rules:\n",
    "                    - Do NOT use question-answer format.\n",
    "                    - Max 280 characters.\n",
    "                    - Use observational humor, irony, sarcasm, or cultural references.\n",
    "                    - Think in meme logic, punchlines, or relatable takes.\n",
    "                    - Use simple, day to day english\n",
    "                    \"\"\")\n",
    "                        ]\n",
    "    # Send generator_llm\n",
    "    response = generate_llm.invoke(messages).content\n",
    "\n",
    "    # return response\n",
    "    return {\"tweet\": response, 'tweet_history': [response]}\n"
   ]
  },
  {
   "cell_type": "code",
   "execution_count": 8,
   "metadata": {},
   "outputs": [],
   "source": [
    "def evaluate_tweet(state: TweetState):\n",
    "\n",
    "    # prompt\n",
    "    messages = [\n",
    "    SystemMessage(content=\"You are a ruthless, no-laugh-given Twitter critic. You evaluate tweets based on humor, originality, virality, and tweet format.\"),\n",
    "    HumanMessage(content=f\"\"\"\n",
    "                Evaluate the following tweet:\n",
    "\n",
    "                Tweet: \"{state['tweet']}\"\n",
    "\n",
    "                Use the criteria below to evaluate the tweet:\n",
    "\n",
    "                1. Originality – Is this fresh, or have you seen it a hundred times before?  \n",
    "                2. Humor – Did it genuinely make you smile, laugh, or chuckle?  \n",
    "                3. Punchiness – Is it short, sharp, and scroll-stopping?  \n",
    "                4. Virality Potential – Would people retweet or share it?  \n",
    "                5. Format – Is it a well-formed tweet (not a setup-punchline joke, not a Q&A joke, and under 280 characters)?\n",
    "\n",
    "                Auto-reject if:\n",
    "                - It's written in question-answer format (e.g., \"Why did...\" or \"What happens when...\")\n",
    "                - It exceeds 280 characters\n",
    "                - It reads like a traditional setup-punchline joke\n",
    "                - Dont end with generic, throwaway, or deflating lines that weaken the humor (e.g., “Masterpieces of the auntie-uncle universe” or vague summaries)\n",
    "\n",
    "                ### Respond ONLY in structured format:\n",
    "                - evaluation: \"approved\" or \"needs_improvement\"  \n",
    "                - feedback: One paragraph explaining the strengths and weaknesses \n",
    "                \"\"\")\n",
    "                ]\n",
    "\n",
    "    response = structured_evaluator_llm.invoke(messages)\n",
    "\n",
    "    return {'evaluation':response.evaluation, 'feedback': response.feedback, 'feedback_history': [response.feedback]}"
   ]
  },
  {
   "cell_type": "code",
   "execution_count": 9,
   "metadata": {},
   "outputs": [],
   "source": [
    "def optimize_tweet(state: TweetState):\n",
    "\n",
    "    messages = [\n",
    "        SystemMessage(content=\"You punch up tweets for virality and humor based on given feedback.\"),\n",
    "        HumanMessage(content=f\"\"\"\n",
    "                    Improve the tweet based on this feedback:\n",
    "                    \"{state['feedback']}\"\n",
    "\n",
    "                    Topic: \"{state['topic']}\"\n",
    "                    Original Tweet:\n",
    "                    {state['tweet']}\n",
    "\n",
    "                    Re-write it as a short, viral-worthy tweet. Avoid Q&A style and stay under 280 characters.\n",
    "                    \"\"\")\n",
    "                        ]\n",
    "\n",
    "    response = optimizer_llm.invoke(messages).content\n",
    "    iteration = state['iteration'] + 1\n",
    "\n",
    "    return {'tweet': response, 'iteration': iteration, 'tweet_history': [response]}"
   ]
  },
  {
   "cell_type": "code",
   "execution_count": 10,
   "metadata": {},
   "outputs": [],
   "source": [
    "def route_evaluation(state: TweetState):\n",
    "\n",
    "    if state['evaluation'] == 'approved' or state['iteration'] >= state['max_iteration']:\n",
    "        return 'approved'\n",
    "    else:\n",
    "        return 'needs_improvement'"
   ]
  },
  {
   "cell_type": "code",
   "execution_count": 17,
   "metadata": {},
   "outputs": [],
   "source": [
    "# Define Graph\n",
    "graph = StateGraph(TweetState)\n",
    "\n",
    "# Add Nodes\n",
    "\n",
    "graph.add_node(\"generate\", generate_tweet)\n",
    "graph.add_node(\"evaluate\", evaluate_tweet)\n",
    "graph.add_node(\"optimize\", optimize_tweet)\n",
    "\n",
    "# Add Edges\n",
    "\n",
    "graph.add_edge(START, \"generate\")\n",
    "graph.add_edge(\"generate\", \"evaluate\")\n",
    "graph.add_edge(\"evaluate\", END)\n",
    "\n",
    "graph.add_conditional_edges(\"evaluate\", route_evaluation, {\"approved\": END, \"needs_improvement\": \"optimize\"})\n",
    "graph.add_edge(\"optimize\", \"evaluate\")\n",
    "\n",
    "workflow = graph.compile()"
   ]
  },
  {
   "cell_type": "code",
   "execution_count": 18,
   "metadata": {},
   "outputs": [
    {
     "data": {
      "image/png": "[encoded data removed]",
      "text/plain": [
       "<langgraph.graph.state.CompiledStateGraph object at 0x747e8029e240>"
      ]
     },
     "execution_count": 18,
     "metadata": {},
     "output_type": "execute_result"
    }
   ],
   "source": [
    "workflow"
   ]
  },
  {
   "cell_type": "code",
   "execution_count": 21,
   "metadata": {},
   "outputs": [],
   "source": [
    "initial_state = {\n",
    "    \"topic\": \"Bangladesh Laws\",\n",
    "    \"iteration\": 1,\n",
    "    \"max_iteration\": 5\n",
    "}\n",
    "\n",
    "result = workflow.invoke(initial_state)"
   ]
  },
  {
   "cell_type": "code",
   "execution_count": 22,
   "metadata": {},
   "outputs": [
    {
     "data": {
      "text/plain": [
       "{'topic': 'Bangladesh Laws',\n",
       " 'tweet': '\"In Bangladesh, the laws are like cricket matches—everyone plays, but few follow the rules. 🏏😂\"',\n",
       " 'evaluation': 'approved',\n",
       " 'feedback': \"The tweet is original, using a fresh analogy between laws and cricket matches. It's humorous and relatable, especially for those familiar with cricket culture. The punchline is sharp and concise, making it scroll-stopping. The format is well-executed, avoiding common joke structures and staying within character limits. The use of emojis adds a playful touch without being distracting. Overall, it has strong virality potential and effectively communicates the intended humor.\",\n",
       " 'iteration': 1,\n",
       " 'max_iteration': 5,\n",
       " 'tweet_history': ['\"In Bangladesh, the laws are like cricket matches—everyone plays, but few follow the rules. 🏏😂\"'],\n",
       " 'feedback_history': [\"The tweet is original, using a fresh analogy between laws and cricket matches. It's humorous and relatable, especially for those familiar with cricket culture. The punchline is sharp and concise, making it scroll-stopping. The format is well-executed, avoiding common joke structures and staying within character limits. The use of emojis adds a playful touch without being distracting. Overall, it has strong virality potential and effectively communicates the intended humor.\"]}"
      ]
     },
     "execution_count": 22,
     "metadata": {},
     "output_type": "execute_result"
    }
   ],
   "source": [
    "result"
   ]
  },
  {
   "cell_type": "code",
   "execution_count": null,
   "metadata": {},
   "outputs": [],
   "source": []
  }
 ],
 "metadata": {
  "kernelspec": {
   "display_name": "Python 3",
   "language": "python",
   "name": "python3"
  },
  "language_info": {
   "codemirror_mode": {
    "name": "ipython",
    "version": 3
   },
   "file_extension": ".py",
   "mimetype": "text/x-python",
   "name": "python",
   "nbconvert_exporter": "python",
   "pygments_lexer": "ipython3",
   "version": "3.12.11"
  }
 },
 "nbformat": 4,
 "nbformat_minor": 2
}
