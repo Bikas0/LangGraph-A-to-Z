{
 "cells": [
  {
   "cell_type": "markdown",
   "metadata": {},
   "source": [
    "## BMI Calculator"
   ]
  },
  {
   "cell_type": "code",
   "execution_count": 1,
   "metadata": {},
   "outputs": [],
   "source": [
    "from langgraph.graph import StateGraph, START, END\n",
    "from typing import TypedDict\n",
    "from IPython.display import Image"
   ]
  },
  {
   "cell_type": "code",
   "execution_count": 2,
   "metadata": {},
   "outputs": [],
   "source": [
    "# Define state\n",
    "class BMIState(TypedDict):\n",
    "\n",
    "    weight_kg: float\n",
    "    height_m: float\n",
    "    bmi: float\n",
    "    category: str"
   ]
  },
  {
   "cell_type": "code",
   "execution_count": 3,
   "metadata": {},
   "outputs": [],
   "source": [
    "def calculate_bmi(state: BMIState) -> BMIState:\n",
    "    weight = state['weight_kg']\n",
    "    height = state[\"height_m\"]\n",
    "\n",
    "    bmi = weight/(height**2)\n",
    "\n",
    "    state[\"bmi\"] = round(bmi, 2)\n",
    "\n",
    "    return state"
   ]
  },
  {
   "cell_type": "code",
   "execution_count": 4,
   "metadata": {},
   "outputs": [],
   "source": [
    "def label_bmi(state: BMIState) -> BMIState:\n",
    "    bmi = state[\"bmi\"]\n",
    "\n",
    "    if bmi < 18.5:\n",
    "        state[\"category\"] = \"Underweight\"\n",
    "    elif 18.5 <= bmi < 25:\n",
    "        state[\"category\"] = \"Normal\"\n",
    "    elif 25 <= bmi < 30:\n",
    "        state[\"category\"] = \"Overweight\"\n",
    "    else:\n",
    "        state[\"category\"] = \"Obese\"\n",
    "\n",
    "    return state\n"
   ]
  },
  {
   "cell_type": "code",
   "execution_count": 5,
   "metadata": {},
   "outputs": [],
   "source": [
    "# Define Graph\n",
    "graph = StateGraph(BMIState)\n",
    "\n",
    "# Add nodes to graph\n",
    "graph.add_node('calculate_bmi', calculate_bmi)\n",
    "graph.add_node('label_bmi', label_bmi)\n",
    "\n",
    "# Add edges to graph\n",
    "graph.add_edge(START, 'calculate_bmi')\n",
    "graph.add_edge('calculate_bmi', 'label_bmi')\n",
    "graph.add_edge('label_bmi', END)\n",
    "\n",
    "# Compile the graph \n",
    "workflow = graph.compile()"
   ]
  },
  {
   "cell_type": "code",
   "execution_count": 6,
   "metadata": {},
   "outputs": [
    {
     "name": "stdout",
     "output_type": "stream",
     "text": [
      "{'weight_kg': 64, 'height_m': 1.68, 'bmi': 22.68, 'category': 'Normal'}\n"
     ]
    }
   ],
   "source": [
    "# Execute the graph\n",
    "initial_state = {\"weight_kg\": 64, \"height_m\": 1.68}\n",
    "final_state = workflow.invoke(initial_state)\n",
    "print(final_state)"
   ]
  },
  {
   "cell_type": "code",
   "execution_count": 7,
   "metadata": {},
   "outputs": [
    {
     "data": {
      "image/png": "[encoded data removed]",
      "text/plain": [
       "<IPython.core.display.Image object>"
      ]
     },
     "execution_count": 7,
     "metadata": {},
     "output_type": "execute_result"
    }
   ],
   "source": [
    "Image(workflow.get_graph().draw_mermaid_png())"
   ]
  },
  {
   "cell_type": "markdown",
   "metadata": {},
   "source": [
    "## LLM Workflow"
   ]
  },
  {
   "cell_type": "code",
   "execution_count": 8,
   "metadata": {},
   "outputs": [],
   "source": [
    "from langgraph.graph import StateGraph, START, END\n",
    "from typing import TypedDict\n",
    "from langchain_groq import ChatGroq\n",
    "from IPython.display import Image\n",
    "from dotenv import load_dotenv"
   ]
  },
  {
   "cell_type": "code",
   "execution_count": 9,
   "metadata": {},
   "outputs": [
    {
     "data": {
      "text/plain": [
       "True"
      ]
     },
     "execution_count": 9,
     "metadata": {},
     "output_type": "execute_result"
    }
   ],
   "source": [
    "load_dotenv()"
   ]
  },
  {
   "cell_type": "code",
   "execution_count": 10,
   "metadata": {},
   "outputs": [],
   "source": [
    "model = llm = ChatGroq(\n",
    "    model=\"deepseek-r1-distill-llama-70b\",\n",
    "    temperature=0,\n",
    "    max_tokens=None,\n",
    "    reasoning_format=\"parsed\",\n",
    "    timeout=None,\n",
    "    max_retries=2\n",
    ")"
   ]
  },
  {
   "cell_type": "code",
   "execution_count": 11,
   "metadata": {},
   "outputs": [],
   "source": [
    "# Define State\n",
    "\n",
    "class LLMState(TypedDict):\n",
    "\n",
    "    question: str\n",
    "    answer: str"
   ]
  },
  {
   "cell_type": "code",
   "execution_count": 12,
   "metadata": {},
   "outputs": [],
   "source": [
    "def llm_qa(state: LLMState) -> LLMState:\n",
    "    \n",
    "    # Extract the question from state\n",
    "    question = state[\"question\"]\n",
    "\n",
    "    # Form a prompt\n",
    "    prompt = f\"Answer the following question {question}\"\n",
    "\n",
    "    # Ask the questions\n",
    "    answer = model.invoke(prompt).content\n",
    "\n",
    "    # Update the answer in the state\n",
    "\n",
    "    state[\"answer\"] = answer\n",
    "\n",
    "    return state"
   ]
  },
  {
   "cell_type": "code",
   "execution_count": 13,
   "metadata": {},
   "outputs": [],
   "source": [
    "# Define the Graph\n",
    "graph = StateGraph(LLMState)\n",
    "\n",
    "# Add nodes to Graph\n",
    "graph.add_node(\"llm_qa\", llm_qa)\n",
    "\n",
    "# Add edges to the graph\n",
    "graph.add_edge(START, \"llm_qa\")\n",
    "graph.add_edge(\"llm_qa\", END)\n",
    "\n",
    "# Compile\n",
    "workflow = graph.compile()"
   ]
  },
  {
   "cell_type": "code",
   "execution_count": 14,
   "metadata": {},
   "outputs": [
    {
     "data": {
      "image/png": "[encoded data removed]",
      "text/plain": [
       "<IPython.core.display.Image object>"
      ]
     },
     "execution_count": 14,
     "metadata": {},
     "output_type": "execute_result"
    }
   ],
   "source": [
    "Image(workflow.get_graph().draw_mermaid_png())"
   ]
  },
  {
   "cell_type": "code",
   "execution_count": 15,
   "metadata": {},
   "outputs": [
    {
     "name": "stdout",
     "output_type": "stream",
     "text": [
      "The Moon's distance from Earth is not constant due to its elliptical orbit. Here are the key points:\n",
      "\n",
      "1. **Elliptical Orbit**: The Moon orbits Earth in an ellipse, leading to varying distances. The closest point is called perigee, and the farthest is apogee.\n",
      "\n",
      "2. **Average Distance**: The average distance from Earth to the Moon is approximately 238,900 miles (384,400 kilometers).\n",
      "\n",
      "3. **Tidal Effects**: The varying distance affects tides, with closer proximity (perigee) resulting in stronger gravitational pull and more pronounced tides.\n",
      "\n",
      "4. **Increasing Distance**: The Moon is slowly moving away from Earth at a rate of about 1.5 inches (3.8 centimeters) per year due to tidal interactions.\n",
      "\n",
      "5. **Gravitational Influences**: The Moon's orbit is primarily influenced by Earth's gravity, with secondary effects from the Sun's gravity.\n",
      "\n",
      "These factors collectively explain the Moon's varying distance from Earth and its gradual recession.\n"
     ]
    }
   ],
   "source": [
    "initial_state = {\"question\": \"How far is moon from the Earth?\"}\n",
    "\n",
    "final_state = workflow.invoke(initial_state)\n",
    "print(final_state[\"answer\"])"
   ]
  },
  {
   "cell_type": "markdown",
   "metadata": {},
   "source": [
    "## Pompt Chaining"
   ]
  },
  {
   "cell_type": "code",
   "execution_count": 16,
   "metadata": {},
   "outputs": [],
   "source": [
    "from langgraph.graph import StateGraph, START, END\n",
    "from typing import TypedDict\n",
    "from IPython.display import Image\n",
    "from dotenv import load_dotenv\n",
    "from langchain_groq import ChatGroq"
   ]
  },
  {
   "cell_type": "code",
   "execution_count": 17,
   "metadata": {},
   "outputs": [
    {
     "data": {
      "text/plain": [
       "True"
      ]
     },
     "execution_count": 17,
     "metadata": {},
     "output_type": "execute_result"
    }
   ],
   "source": [
    "load_dotenv()"
   ]
  },
  {
   "cell_type": "code",
   "execution_count": 18,
   "metadata": {},
   "outputs": [],
   "source": [
    "model = llm = ChatGroq(\n",
    "    model=\"deepseek-r1-distill-llama-70b\",\n",
    "    temperature=0,\n",
    "    max_tokens=None,\n",
    "    reasoning_format=\"parsed\",\n",
    "    timeout=None,\n",
    "    max_retries=2\n",
    ")"
   ]
  },
  {
   "cell_type": "code",
   "execution_count": 19,
   "metadata": {},
   "outputs": [],
   "source": [
    "# Define State\n",
    "\n",
    "class BlogState(TypedDict):\n",
    "\n",
    "    title: str\n",
    "    outline: str\n",
    "    content: str"
   ]
  },
  {
   "cell_type": "code",
   "execution_count": 20,
   "metadata": {},
   "outputs": [],
   "source": [
    "def create_outline(state: BlogState) -> BlogState:\n",
    "\n",
    "    # fetch title\n",
    "    title = state[\"title\"]\n",
    "\n",
    "    # call llm gen outline\n",
    "    prompt = f\"Generate a detailed outline for a blog on the topic - {title}\"\n",
    "    outline = model.invoke(prompt).content\n",
    "\n",
    "    # Update state\n",
    "\n",
    "    state[\"outline\"] = outline\n",
    "\n",
    "    return state"
   ]
  },
  {
   "cell_type": "code",
   "execution_count": 21,
   "metadata": {},
   "outputs": [],
   "source": [
    "def create_blog(state: BlogState) -> BlogState:\n",
    "\n",
    "    # fetch title\n",
    "    title = state[\"title\"]\n",
    "    outline = state[\"outline\"]\n",
    "\n",
    "    prompt = f\"Write a etailed blog on the title - {title} using the following outline \\n {outline}\"\n",
    "    content = model.invoke(prompt).content\n",
    "\n",
    "    # Update state\n",
    "\n",
    "    state[\"content\"] = content\n",
    "\n",
    "    return state"
   ]
  },
  {
   "cell_type": "code",
   "execution_count": 22,
   "metadata": {},
   "outputs": [],
   "source": [
    "# Define graph\n",
    "\n",
    "graph = StateGraph(BlogState)\n",
    "\n",
    "# Define Nodes\n",
    "graph.add_node(\"create_outline\", create_outline)\n",
    "graph.add_node(\"create_blog\", create_blog)\n",
    "\n",
    "# Define Edges\n",
    "graph.add_edge(START, \"create_outline\")\n",
    "graph.add_edge(\"create_outline\", \"create_blog\")\n",
    "graph.add_edge(\"create_blog\", END)\n",
    "\n",
    "\n",
    "# Compile\n",
    "workflow = graph.compile()\n"
   ]
  },
  {
   "cell_type": "code",
   "execution_count": 23,
   "metadata": {},
   "outputs": [
    {
     "data": {
      "image/png": "[encoded data removed]",
      "text/plain": [
       "<IPython.core.display.Image object>"
      ]
     },
     "execution_count": 23,
     "metadata": {},
     "output_type": "execute_result"
    }
   ],
   "source": [
    "Image(workflow.get_graph().draw_mermaid_png())"
   ]
  },
  {
   "cell_type": "code",
   "execution_count": 24,
   "metadata": {},
   "outputs": [
    {
     "name": "stdout",
     "output_type": "stream",
     "text": [
      "{'title': 'Rise of AI in Bangladesh', 'outline': '**Detailed Outline for Blog: \"The Rise of AI in Bangladesh\"**\\n\\n---\\n\\n**I. Introduction**\\n   - **A. Global AI Revolution**\\n     - Brief overview of AI\\'s growth worldwide.\\n     - Importance of AI in the modern economy.\\n   - **B. Bangladesh\\'s Unique Position**\\n     - Overview of Bangladesh\\'s economic growth and young population.\\n     - Introduction to the potential of AI in Bangladesh.\\n\\n**II. Understanding AI**\\n   - **A. Definition and Evolution**\\n     - Simple explanation of AI and its types (e.g., Machine Learning, Deep Learning).\\n     - Historical development from concept to current applications.\\n   - **B. Global Impact**\\n     - AI\\'s role in various industries globally.\\n\\n**III. Bangladesh\\'s Tech Landscape**\\n   - **A. Current State of IT Sector**\\n     - Growth and development of the IT industry in Bangladesh.\\n   - **B. Government Initiatives**\\n     - \"Digital Bangladesh\" vision and its goals.\\n     - Policies and programs promoting technology and innovation.\\n   - **C. Startup Ecosystem**\\n     - Overview of the growing startup culture.\\n     - Role of incubators and accelerators.\\n\\n**IV. Key Sectors Impacted by AI**\\n   - **A. Healthcare**\\n     - AI applications in diagnostics and telemedicine.\\n     - Examples of AI-driven health solutions in Bangladesh.\\n   - **B. Education**\\n     - AI in educational technology (EdTech) and e-learning.\\n     - Personalized learning experiences.\\n   - **C. Agriculture**\\n     - Precision agriculture and AI-driven farming solutions.\\n     - Impact on agricultural productivity.\\n   - **D. Financial Services**\\n     - AI in mobile banking and fintech.\\n     - Fraud detection and customer service innovations.\\n   - **E. Manufacturing and Supply Chain**\\n     - AI-driven optimization in manufacturing.\\n     - Predictive maintenance and inventory management.\\n\\n**V. Success Stories and Case Studies**\\n   - **A. Local Startups and Innovations**\\n     - Examples of successful AI implementations in Bangladeshi companies.\\n   - **B. Real-World Applications**\\n     - Case studies highlighting AI\\'s practical impact in various sectors.\\n\\n**VI. Challenges in AI Adoption**\\n   - **A. Infrastructure Limitations**\\n     - Internet connectivity issues, especially in rural areas.\\n   - **B. Skilled Workforce**\\n     - Need for AI experts and upskilling initiatives.\\n   - **C. Data Privacy and Regulations**\\n     - Legal framework for data protection.\\n   - **D. Cultural and Social Factors**\\n     - Resistance to change and digital adoption.\\n\\n**VII. Future Potential and Opportunities**\\n   - **A. Emerging Trends**\\n     - AI in renewable energy and smart cities.\\n   - **B. Role of Government and Private Sector**\\n     - Collaboration for AI development.\\n   - **C. Becoming a Regional AI Hub**\\n     - Potential for Bangladesh to lead in AI innovation in South Asia.\\n\\n**VIII. Expert Opinions and Insights**\\n   - **A. Quotes from Professionals**\\n     - Insights from AI experts, policymakers, and industry leaders.\\n   - **B. Recommendations**\\n     - Suggestions for fostering AI growth in Bangladesh.\\n\\n**IX. Conclusion**\\n   - **A. Summary of Key Points**\\n     - Recap of AI\\'s rise and impact in Bangladesh.\\n   - **B. Call to Action**\\n     - Encouragement for investment, collaboration, and innovation in AI.\\n   - **C. Final Thoughts**\\n     - Vision for Bangladesh\\'s future with AI.\\n\\n---\\n\\nThis outline provides a comprehensive structure for exploring the rise of AI in Bangladesh, ensuring a logical flow and depth of information suitable for a broad audience.', 'content': '**The Rise of AI in Bangladesh: A Comprehensive Overview**\\n\\n**Introduction**\\n\\nIn an era where artificial intelligence (AI) is revolutionizing industries worldwide, Bangladesh stands at the brink of a technological transformation. With a rapidly growing economy and a youthful population, Bangladesh is poised to harness the power of AI to drive innovation and development. This blog explores the rise of AI in Bangladesh, examining its current landscape, impact, challenges, and future potential.\\n\\n**Understanding AI**\\n\\nAI refers to machines designed to mimic human intelligence, encompassing technologies like Machine Learning and Deep Learning. From its conceptual origins in the 1956 Dartmouth Conference to today\\'s sophisticated applications, AI has evolved significantly. Globally, AI is transforming healthcare, education, and finance, making it indispensable in the modern economy.\\n\\n**Bangladesh\\'s Tech Landscape**\\n\\nBangladesh\\'s IT sector has experienced remarkable growth, with the industry expanding steadily. The government\\'s \"Digital Bangladesh\" vision aims to integrate technology into all aspects of society, promoting policies that foster innovation. The startup ecosystem is thriving, supported by incubators like Startup Bangladesh, which nurture entrepreneurial talent and technological advancement.\\n\\n**Key Sectors Impacted by AI**\\n\\n1. **Healthcare**: AI is enhancing diagnostics and telemedicine in Bangladesh. Platforms like Telemedicine Bangladesh use AI for remote consultations, improving healthcare access, especially in rural areas.\\n\\n2. **Education**: EdTech platforms such as Shikho are leveraging AI to offer personalized learning experiences, making education more accessible and tailored to individual needs.\\n\\n3. **Agriculture**: AI-driven solutions are optimizing farming practices. Companies like Agroshift use AI for crop prediction and livestock management, boosting agricultural productivity.\\n\\n4. **Financial Services**: In fintech, AI is revolutionizing mobile banking and fraud detection. Apps like bKash utilize AI to enhance security and customer service.\\n\\n5. **Manufacturing and Supply Chain**: AI is streamlining manufacturing processes through predictive maintenance and inventory management, improving efficiency in industries like textiles.\\n\\n**Success Stories and Case Studies**\\n\\nLocal startups like Pathao and Chaldal have successfully integrated AI into their operations. Pathao uses AI for route optimization, while Chaldal employs it for demand forecasting, showcasing AI\\'s practical impact in Bangladesh.\\n\\n**Challenges in AI Adoption**\\n\\nDespite its potential, AI adoption in Bangladesh faces challenges. Poor internet connectivity in rural areas hinders implementation. The need for skilled AI professionals underscores the importance of upskilling programs. Data privacy concerns necessitate a robust legal framework, while cultural resistance to new technologies must be addressed through awareness campaigns.\\n\\n**Future Potential and Opportunities**\\n\\nEmerging trends like AI in renewable energy and smart cities present exciting opportunities. Collaboration between government and private sectors is crucial for fostering AI development. Bangladesh has the potential to become a regional AI hub, leading innovation in South Asia.\\n\\n**Expert Opinions and Insights**\\n\\nExperts like Dr. M. Omar Faruk, a computer science professor, emphasize the need for investment in AI education and infrastructure. Policymakers recommend fostering public-private partnerships to drive AI innovation.\\n\\n**Conclusion**\\n\\nThe rise of AI in Bangladesh is a story of potential and progress. While challenges exist, the future holds immense promise. By investing in education, infrastructure, and innovation, Bangladesh can harness AI to achieve its development goals. The call to action is clear: collaborate, innovate, and embrace AI to envision a future where technology drives prosperity for all Bangladeshis.'}\n"
     ]
    }
   ],
   "source": [
    "initial_state = {\"title\": \"Rise of AI in Bangladesh\"}\n",
    "final_state = workflow.invoke(initial_state)\n",
    "print(final_state)"
   ]
  },
  {
   "cell_type": "code",
   "execution_count": 25,
   "metadata": {},
   "outputs": [
    {
     "name": "stdout",
     "output_type": "stream",
     "text": [
      "**Detailed Outline for Blog: \"The Rise of AI in Bangladesh\"**\n",
      "\n",
      "---\n",
      "\n",
      "**I. Introduction**\n",
      "   - **A. Global AI Revolution**\n",
      "     - Brief overview of AI's growth worldwide.\n",
      "     - Importance of AI in the modern economy.\n",
      "   - **B. Bangladesh's Unique Position**\n",
      "     - Overview of Bangladesh's economic growth and young population.\n",
      "     - Introduction to the potential of AI in Bangladesh.\n",
      "\n",
      "**II. Understanding AI**\n",
      "   - **A. Definition and Evolution**\n",
      "     - Simple explanation of AI and its types (e.g., Machine Learning, Deep Learning).\n",
      "     - Historical development from concept to current applications.\n",
      "   - **B. Global Impact**\n",
      "     - AI's role in various industries globally.\n",
      "\n",
      "**III. Bangladesh's Tech Landscape**\n",
      "   - **A. Current State of IT Sector**\n",
      "     - Growth and development of the IT industry in Bangladesh.\n",
      "   - **B. Government Initiatives**\n",
      "     - \"Digital Bangladesh\" vision and its goals.\n",
      "     - Policies and programs promoting technology and innovation.\n",
      "   - **C. Startup Ecosystem**\n",
      "     - Overview of the growing startup culture.\n",
      "     - Role of incubators and accelerators.\n",
      "\n",
      "**IV. Key Sectors Impacted by AI**\n",
      "   - **A. Healthcare**\n",
      "     - AI applications in diagnostics and telemedicine.\n",
      "     - Examples of AI-driven health solutions in Bangladesh.\n",
      "   - **B. Education**\n",
      "     - AI in educational technology (EdTech) and e-learning.\n",
      "     - Personalized learning experiences.\n",
      "   - **C. Agriculture**\n",
      "     - Precision agriculture and AI-driven farming solutions.\n",
      "     - Impact on agricultural productivity.\n",
      "   - **D. Financial Services**\n",
      "     - AI in mobile banking and fintech.\n",
      "     - Fraud detection and customer service innovations.\n",
      "   - **E. Manufacturing and Supply Chain**\n",
      "     - AI-driven optimization in manufacturing.\n",
      "     - Predictive maintenance and inventory management.\n",
      "\n",
      "**V. Success Stories and Case Studies**\n",
      "   - **A. Local Startups and Innovations**\n",
      "     - Examples of successful AI implementations in Bangladeshi companies.\n",
      "   - **B. Real-World Applications**\n",
      "     - Case studies highlighting AI's practical impact in various sectors.\n",
      "\n",
      "**VI. Challenges in AI Adoption**\n",
      "   - **A. Infrastructure Limitations**\n",
      "     - Internet connectivity issues, especially in rural areas.\n",
      "   - **B. Skilled Workforce**\n",
      "     - Need for AI experts and upskilling initiatives.\n",
      "   - **C. Data Privacy and Regulations**\n",
      "     - Legal framework for data protection.\n",
      "   - **D. Cultural and Social Factors**\n",
      "     - Resistance to change and digital adoption.\n",
      "\n",
      "**VII. Future Potential and Opportunities**\n",
      "   - **A. Emerging Trends**\n",
      "     - AI in renewable energy and smart cities.\n",
      "   - **B. Role of Government and Private Sector**\n",
      "     - Collaboration for AI development.\n",
      "   - **C. Becoming a Regional AI Hub**\n",
      "     - Potential for Bangladesh to lead in AI innovation in South Asia.\n",
      "\n",
      "**VIII. Expert Opinions and Insights**\n",
      "   - **A. Quotes from Professionals**\n",
      "     - Insights from AI experts, policymakers, and industry leaders.\n",
      "   - **B. Recommendations**\n",
      "     - Suggestions for fostering AI growth in Bangladesh.\n",
      "\n",
      "**IX. Conclusion**\n",
      "   - **A. Summary of Key Points**\n",
      "     - Recap of AI's rise and impact in Bangladesh.\n",
      "   - **B. Call to Action**\n",
      "     - Encouragement for investment, collaboration, and innovation in AI.\n",
      "   - **C. Final Thoughts**\n",
      "     - Vision for Bangladesh's future with AI.\n",
      "\n",
      "---\n",
      "\n",
      "This outline provides a comprehensive structure for exploring the rise of AI in Bangladesh, ensuring a logical flow and depth of information suitable for a broad audience.\n"
     ]
    }
   ],
   "source": [
    "print(final_state[\"outline\"])"
   ]
  },
  {
   "cell_type": "code",
   "execution_count": 26,
   "metadata": {},
   "outputs": [
    {
     "name": "stdout",
     "output_type": "stream",
     "text": [
      "**The Rise of AI in Bangladesh: A Comprehensive Overview**\n",
      "\n",
      "**Introduction**\n",
      "\n",
      "In an era where artificial intelligence (AI) is revolutionizing industries worldwide, Bangladesh stands at the brink of a technological transformation. With a rapidly growing economy and a youthful population, Bangladesh is poised to harness the power of AI to drive innovation and development. This blog explores the rise of AI in Bangladesh, examining its current landscape, impact, challenges, and future potential.\n",
      "\n",
      "**Understanding AI**\n",
      "\n",
      "AI refers to machines designed to mimic human intelligence, encompassing technologies like Machine Learning and Deep Learning. From its conceptual origins in the 1956 Dartmouth Conference to today's sophisticated applications, AI has evolved significantly. Globally, AI is transforming healthcare, education, and finance, making it indispensable in the modern economy.\n",
      "\n",
      "**Bangladesh's Tech Landscape**\n",
      "\n",
      "Bangladesh's IT sector has experienced remarkable growth, with the industry expanding steadily. The government's \"Digital Bangladesh\" vision aims to integrate technology into all aspects of society, promoting policies that foster innovation. The startup ecosystem is thriving, supported by incubators like Startup Bangladesh, which nurture entrepreneurial talent and technological advancement.\n",
      "\n",
      "**Key Sectors Impacted by AI**\n",
      "\n",
      "1. **Healthcare**: AI is enhancing diagnostics and telemedicine in Bangladesh. Platforms like Telemedicine Bangladesh use AI for remote consultations, improving healthcare access, especially in rural areas.\n",
      "\n",
      "2. **Education**: EdTech platforms such as Shikho are leveraging AI to offer personalized learning experiences, making education more accessible and tailored to individual needs.\n",
      "\n",
      "3. **Agriculture**: AI-driven solutions are optimizing farming practices. Companies like Agroshift use AI for crop prediction and livestock management, boosting agricultural productivity.\n",
      "\n",
      "4. **Financial Services**: In fintech, AI is revolutionizing mobile banking and fraud detection. Apps like bKash utilize AI to enhance security and customer service.\n",
      "\n",
      "5. **Manufacturing and Supply Chain**: AI is streamlining manufacturing processes through predictive maintenance and inventory management, improving efficiency in industries like textiles.\n",
      "\n",
      "**Success Stories and Case Studies**\n",
      "\n",
      "Local startups like Pathao and Chaldal have successfully integrated AI into their operations. Pathao uses AI for route optimization, while Chaldal employs it for demand forecasting, showcasing AI's practical impact in Bangladesh.\n",
      "\n",
      "**Challenges in AI Adoption**\n",
      "\n",
      "Despite its potential, AI adoption in Bangladesh faces challenges. Poor internet connectivity in rural areas hinders implementation. The need for skilled AI professionals underscores the importance of upskilling programs. Data privacy concerns necessitate a robust legal framework, while cultural resistance to new technologies must be addressed through awareness campaigns.\n",
      "\n",
      "**Future Potential and Opportunities**\n",
      "\n",
      "Emerging trends like AI in renewable energy and smart cities present exciting opportunities. Collaboration between government and private sectors is crucial for fostering AI development. Bangladesh has the potential to become a regional AI hub, leading innovation in South Asia.\n",
      "\n",
      "**Expert Opinions and Insights**\n",
      "\n",
      "Experts like Dr. M. Omar Faruk, a computer science professor, emphasize the need for investment in AI education and infrastructure. Policymakers recommend fostering public-private partnerships to drive AI innovation.\n",
      "\n",
      "**Conclusion**\n",
      "\n",
      "The rise of AI in Bangladesh is a story of potential and progress. While challenges exist, the future holds immense promise. By investing in education, infrastructure, and innovation, Bangladesh can harness AI to achieve its development goals. The call to action is clear: collaborate, innovate, and embrace AI to envision a future where technology drives prosperity for all Bangladeshis.\n"
     ]
    }
   ],
   "source": [
    "print(final_state[\"content\"])"
   ]
  },
  {
   "cell_type": "markdown",
   "metadata": {},
   "source": [
    "## Parallel Workflows in LangGraph"
   ]
  },
  {
   "cell_type": "code",
   "execution_count": 27,
   "metadata": {},
   "outputs": [],
   "source": [
    "from langgraph.graph import StateGraph, START, END\n",
    "from typing import TypedDict"
   ]
  },
  {
   "cell_type": "code",
   "execution_count": 28,
   "metadata": {},
   "outputs": [],
   "source": [
    "# Define State\n",
    "\n",
    "class AnalysisPlayerPerformanceState(TypedDict):\n",
    "\n",
    "    runs: int\n",
    "    balls: int\n",
    "    fours: int\n",
    "    sixes: int\n",
    "    strike_rate: float\n",
    "    balls_per_boundary: float\n",
    "    boundary_percent: float\n",
    "    summary: str\n"
   ]
  },
  {
   "cell_type": "code",
   "execution_count": 29,
   "metadata": {},
   "outputs": [],
   "source": [
    "def calculate_sr(state: AnalysisPlayerPerformanceState):\n",
    "\n",
    "    sr = (state[\"runs\"]/state[\"balls\"])*100\n",
    "\n",
    "    return {\"strike_rate\": sr}"
   ]
  },
  {
   "cell_type": "code",
   "execution_count": 30,
   "metadata": {},
   "outputs": [],
   "source": [
    "def calculate_bpb(state: AnalysisPlayerPerformanceState):\n",
    "\n",
    "    bpb = (state[\"balls\"]/state[\"fours\"] + state[\"sixes\"])\n",
    "\n",
    "    return {\"balls_per_boundary\": bpb}"
   ]
  },
  {
   "cell_type": "code",
   "execution_count": 31,
   "metadata": {},
   "outputs": [],
   "source": [
    "def calculate_boundary_percent(state: AnalysisPlayerPerformanceState):\n",
    "\n",
    "    boundary_percent = (((state[\"fours\"]*4) + (state[\"sixes\"]*6))/state[\"runs\"])*100\n",
    "\n",
    "    return {\"boundary_percent\": boundary_percent}\n"
   ]
  },
  {
   "cell_type": "code",
   "execution_count": 32,
   "metadata": {},
   "outputs": [],
   "source": [
    "def summary(state: AnalysisPlayerPerformanceState):\n",
    "\n",
    "    summary = f\"\"\"\n",
    "    Strike Rate - {state[\"strike_rate\"]} \\n\n",
    "    Balls per boundary - {state[\"balls_per_boundary\"]} \\n\n",
    "    Boundary percent - {state[\"boundary_percent\"]}\n",
    "    \"\"\"\n",
    "\n",
    "    return {\"summary\": summary}"
   ]
  },
  {
   "cell_type": "code",
   "execution_count": 33,
   "metadata": {},
   "outputs": [],
   "source": [
    "# Define Graph\n",
    "graph = StateGraph(AnalysisPlayerPerformanceState)\n",
    "\n",
    "# Add Node\n",
    "graph.add_node(\"calculate_sr\", calculate_sr)\n",
    "graph.add_node(\"calculate_bpb\", calculate_bpb)\n",
    "graph.add_node(\"calculate_boundary_percent\", calculate_boundary_percent)\n",
    "graph.add_node(\"summary\", summary)\n",
    "\n",
    "# Add Edge\n",
    "graph.add_edge(START, 'calculate_sr')\n",
    "graph.add_edge(START, 'calculate_bpb')\n",
    "graph.add_edge(START, 'calculate_boundary_percent')\n",
    "\n",
    "graph.add_edge(\"calculate_sr\", 'summary')\n",
    "graph.add_edge(\"calculate_bpb\", 'summary')\n",
    "graph.add_edge(\"calculate_boundary_percent\", 'summary')\n",
    "\n",
    "graph.add_edge(\"calculate_boundary_percent\", END)\n",
    "\n",
    "# Compile\n",
    "workflow = graph.compile()"
   ]
  },
  {
   "cell_type": "code",
   "execution_count": 34,
   "metadata": {},
   "outputs": [
    {
     "data": {
      "image/png": "[encoded data removed]",
      "text/plain": [
       "<IPython.core.display.Image object>"
      ]
     },
     "execution_count": 34,
     "metadata": {},
     "output_type": "execute_result"
    }
   ],
   "source": [
    "Image(workflow.get_graph().draw_mermaid_png())"
   ]
  },
  {
   "cell_type": "code",
   "execution_count": 35,
   "metadata": {},
   "outputs": [],
   "source": [
    "initial_state = {\n",
    "    \"runs\": 100,\n",
    "    \"balls\": 89,\n",
    "    \"fours\": 6,\n",
    "    \"sixes\": 3\n",
    "}\n",
    "\n",
    "final_state = workflow.invoke(initial_state)"
   ]
  },
  {
   "cell_type": "code",
   "execution_count": 36,
   "metadata": {},
   "outputs": [
    {
     "name": "stdout",
     "output_type": "stream",
     "text": [
      "{'runs': 100, 'balls': 89, 'fours': 6, 'sixes': 3, 'strike_rate': 112.35955056179776, 'balls_per_boundary': 17.833333333333336, 'boundary_percent': 42.0, 'summary': '\\n    Strike Rate - 112.35955056179776 \\n\\n    Balls per boundary - 17.833333333333336 \\n\\n    Boundary percent - 42.0\\n    '}\n"
     ]
    }
   ],
   "source": [
    "print(final_state)"
   ]
  },
  {
   "cell_type": "markdown",
   "metadata": {},
   "source": [
    "## Essay Evaluations"
   ]
  },
  {
   "cell_type": "code",
   "execution_count": 37,
   "metadata": {},
   "outputs": [],
   "source": [
    "from langgraph.graph import StateGraph,START, END\n",
    "from langchain_groq import ChatGroq\n",
    "from dotenv import load_dotenv\n",
    "from typing import TypedDict, Annotated\n",
    "from pydantic import BaseModel, Field\n",
    "import operator"
   ]
  },
  {
   "cell_type": "code",
   "execution_count": 38,
   "metadata": {},
   "outputs": [
    {
     "data": {
      "text/plain": [
       "True"
      ]
     },
     "execution_count": 38,
     "metadata": {},
     "output_type": "execute_result"
    }
   ],
   "source": [
    "load_dotenv()"
   ]
  },
  {
   "cell_type": "code",
   "execution_count": 39,
   "metadata": {},
   "outputs": [],
   "source": [
    "model = llm = ChatGroq(\n",
    "    model=\"deepseek-r1-distill-llama-70b\",\n",
    "    temperature=0,\n",
    "    max_tokens=None,\n",
    "    reasoning_format=\"parsed\",\n",
    "    timeout=None,\n",
    "    max_retries=2\n",
    ")"
   ]
  },
  {
   "cell_type": "code",
   "execution_count": 40,
   "metadata": {},
   "outputs": [],
   "source": [
    "class EvaluationSchema(BaseModel):\n",
    "\n",
    "    feedback: str = Field(description=\"Detailed feedback for the essay\")\n",
    "    score: int = Field(description=\"Score out of 10\", ge = 0, le = 10)"
   ]
  },
  {
   "cell_type": "code",
   "execution_count": 41,
   "metadata": {},
   "outputs": [],
   "source": [
    "structured_model = model.with_structured_output(EvaluationSchema)"
   ]
  },
  {
   "cell_type": "markdown",
   "metadata": {},
   "source": [
    "###########################################################"
   ]
  },
  {
   "cell_type": "code",
   "execution_count": 42,
   "metadata": {},
   "outputs": [],
   "source": [
    "essay = \"\"\"Bangladesh in the Age of AI\n",
    "As the world enters a transformative era defined by artificial intelligence (AI), Bangladesh stands at a critical juncture — one where it can either emerge as a global leader in AI innovation or risk falling behind in the technology race. The age of AI brings with it immense promise as well as unprecedented challenges, and how Bangladesh navigates this landscape will shape its socio-economic and geopolitical future.\n",
    "\n",
    "Bangladesh's strengths in the AI domain are rooted in its vast pool of skilled engineers, a thriving IT industry, and a growing startup ecosystem. With over 5 million STEM graduates annually and a burgeoning base of AI researchers, Bangladesh possesses the intellectual capital required to build cutting-edge AI systems. Institutions like IITs, IIITs, and IISc have begun fostering AI research, while private players such as TCS, Infosys, and Wipro are integrating AI into their global services. In 2020, the government launched the National AI Strategy (AI for All) with a focus on inclusive growth, aiming to leverage AI in healthcare, agriculture, education, and smart mobility.\n",
    "\n",
    "One of the most promising applications of AI in Bangladesh lies in agriculture, where predictive analytics can guide farmers on optimal sowing times, weather forecasts, and pest control. In healthcare, AI-powered diagnostics can help address Bangladesh’s doctor-patient ratio crisis, particularly in rural areas. Educational platforms are increasingly using AI to personalize learning paths, while smart governance tools are helping improve public service delivery and fraud detection.\n",
    "\n",
    "However, the path to AI-led growth is riddled with challenges. Chief among them is the digital divide. While metropolitan cities may embrace AI-driven solutions, rural Bangladesh continues to struggle with basic internet access and digital literacy. The risk of job displacement due to automation also looms large, especially for low-skilled workers. Without effective skilling and re-skilling programs, AI could exacerbate existing socio-economic inequalities.\n",
    "\n",
    "Another pressing concern is data privacy and ethics. As AI systems rely heavily on vast datasets, ensuring that personal data is used transparently and responsibly becomes vital. Bangladesh is still shaping its data protection laws, and in the absence of a strong regulatory framework, AI systems may risk misuse or bias.\n",
    "\n",
    "To harness AI responsibly, Bangladesh must adopt a multi-stakeholder approach involving the government, academia, industry, and civil society. Policies should promote open datasets, encourage responsible innovation, and ensure ethical AI practices. There is also a need for international collaboration, particularly with countries leading in AI research, to gain strategic advantage and ensure interoperability in global systems.\n",
    "\n",
    "Bangladesh’s demographic dividend, when paired with responsible AI adoption, can unlock massive economic growth, improve governance, and uplift marginalized communities. But this vision will only materialize if AI is seen not merely as a tool for automation, but as an enabler of human-centered development.\n",
    "\n",
    "In conclusion, Bangladesh in the age of AI is a story in the making — one of opportunity, responsibility, and transformation. The decisions we make today will not just determine Bangladesh’s AI trajectory, but also its future as an inclusive, equitable, and innovation-driven society.\"\"\""
   ]
  },
  {
   "cell_type": "code",
   "execution_count": 43,
   "metadata": {},
   "outputs": [
    {
     "data": {
      "text/plain": [
       "EvaluationSchema(feedback=\"The essay provides a comprehensive analysis of Bangladesh's position in the AI era, highlighting both opportunities and challenges. It is well-structured and effectively balances positive aspects with potential drawbacks. The language is clear and professional, making it easy to follow. The conclusion ties the essay together nicely, emphasizing responsible AI adoption. However, some sentences could be broken down for better readability, and more specific examples on implementing a multi-stakeholder approach would enhance the essay.\", score=9)"
      ]
     },
     "execution_count": 43,
     "metadata": {},
     "output_type": "execute_result"
    }
   ],
   "source": [
    "prompt = f'Evaluate the language quality of the following essay and provide a feedback and assign a score out of 10 \\n {essay}'\n",
    "structured_model.invoke(prompt)"
   ]
  },
  {
   "cell_type": "code",
   "execution_count": 44,
   "metadata": {},
   "outputs": [
    {
     "data": {
      "text/plain": [
       "\"The essay provides a comprehensive analysis of Bangladesh's position in the AI era, highlighting both opportunities and challenges. It is well-structured, with clear arguments supported by specific examples. The language is professional and coherent, effectively balancing positive aspects with potential drawbacks. However, there is room for improvement in sentence structure variety to enhance readability.\""
      ]
     },
     "execution_count": 44,
     "metadata": {},
     "output_type": "execute_result"
    }
   ],
   "source": [
    "structured_model.invoke(prompt).feedback"
   ]
  },
  {
   "cell_type": "code",
   "execution_count": 45,
   "metadata": {},
   "outputs": [
    {
     "data": {
      "text/plain": [
       "9"
      ]
     },
     "execution_count": 45,
     "metadata": {},
     "output_type": "execute_result"
    }
   ],
   "source": [
    "structured_model.invoke(prompt).score"
   ]
  },
  {
   "cell_type": "markdown",
   "metadata": {},
   "source": [
    "#############################################################"
   ]
  },
  {
   "cell_type": "code",
   "execution_count": 46,
   "metadata": {},
   "outputs": [],
   "source": [
    "class UPSCState(TypedDict):\n",
    "    \n",
    "    essay: str\n",
    "    language_feedback: str\n",
    "    analysis_feedback: str\n",
    "    clarity_feedback: str\n",
    "    overall_feedback: str\n",
    "    individual_scores: Annotated[list[int], operator.add]\n",
    "    avg_score: float"
   ]
  },
  {
   "cell_type": "code",
   "execution_count": 47,
   "metadata": {},
   "outputs": [],
   "source": [
    "def evaluate_language(state: UPSCState):\n",
    "\n",
    "    prompt = f'Evaluate the language quality of the following essay and provide a feedback and assign a score out of 10 \\n {state[\"essay\"]}'\n",
    "    output = structured_model.invoke(prompt)\n",
    "\n",
    "    return {'language_feedback': output.feedback, 'individual_scores': [output.score]}"
   ]
  },
  {
   "cell_type": "code",
   "execution_count": 48,
   "metadata": {},
   "outputs": [],
   "source": [
    "def evaluate_analysis(state: UPSCState):\n",
    "\n",
    "    prompt = f'Evaluate the depth of analysis of the following essay and provide a feedback and assign a score out of 10 \\n {state[\"essay\"]}'\n",
    "    output = structured_model.invoke(prompt)\n",
    "\n",
    "    return {'analysis_feedback': output.feedback, 'individual_scores': [output.score]}"
   ]
  },
  {
   "cell_type": "code",
   "execution_count": 49,
   "metadata": {},
   "outputs": [],
   "source": [
    "def evaluate_thought(state: UPSCState):\n",
    "\n",
    "    prompt = f'Evaluate the clarity of thought of the following essay and provide a feedback and assign a score out of 10 \\n {state[\"essay\"]}'\n",
    "    output = structured_model.invoke(prompt)\n",
    "\n",
    "    return {'clarity_feedback': output.feedback, 'individual_scores': [output.score]}"
   ]
  },
  {
   "cell_type": "code",
   "execution_count": 50,
   "metadata": {},
   "outputs": [],
   "source": [
    "def final_evaluation(state: UPSCState):\n",
    "\n",
    "    # summary feedback\n",
    "    prompt = f'Based on the following feedbacks create a summarized feedback \\n language feedback - {state[\"language_feedback\"]} \\n depth of analysis feedback - {state[\"analysis_feedback\"]} \\n clarity of thought feedback - {state[\"clarity_feedback\"]}'\n",
    "    overall_feedback = model.invoke(prompt).content\n",
    "\n",
    "    # avg calculate\n",
    "    avg_score = sum(state['individual_scores'])/len(state['individual_scores'])\n",
    "\n",
    "    return {'overall_feedback': overall_feedback, 'avg_score': avg_score}\n",
    "    "
   ]
  },
  {
   "cell_type": "code",
   "execution_count": 51,
   "metadata": {},
   "outputs": [],
   "source": [
    "# Define Graph\n",
    "graph = StateGraph(UPSCState)\n",
    "\n",
    "# Add Node\n",
    "graph.add_node(\"evaluate_language\", evaluate_language)\n",
    "graph.add_node(\"evaluate_analysis\", evaluate_analysis)\n",
    "graph.add_node(\"evaluate_thought\", evaluate_thought)\n",
    "graph.add_node(\"final_evaluation\", final_evaluation)\n",
    "\n",
    "\n",
    "# Add Edge\n",
    "graph.add_edge(START, 'evaluate_language')\n",
    "graph.add_edge(START, 'evaluate_analysis')\n",
    "graph.add_edge(START, 'evaluate_thought')\n",
    "\n",
    "graph.add_edge('evaluate_language', 'final_evaluation')\n",
    "graph.add_edge('evaluate_analysis', 'final_evaluation')\n",
    "graph.add_edge('evaluate_thought', 'final_evaluation')\n",
    "\n",
    "graph.add_edge('final_evaluation', END)\n",
    "\n",
    "workflow = graph.compile()"
   ]
  },
  {
   "cell_type": "code",
   "execution_count": 52,
   "metadata": {},
   "outputs": [
    {
     "data": {
      "image/png": "[encoded data removed]",
      "text/plain": [
       "<langgraph.graph.state.CompiledStateGraph object at 0x7172a41eea50>"
      ]
     },
     "execution_count": 52,
     "metadata": {},
     "output_type": "execute_result"
    }
   ],
   "source": [
    "workflow"
   ]
  },
  {
   "cell_type": "code",
   "execution_count": 53,
   "metadata": {},
   "outputs": [],
   "source": [
    "essay2 = \"\"\"Bangladesh and AI Time\n",
    "\n",
    "Now world change very fast because new tech call Artificial Intel… something (AI). Bangladesh also want become big in this AI thing. If work hard, Bangladesh can go top. But if no careful, Bangladesh go back.\n",
    "\n",
    "Bangladesh have many good. We have smart student, many engine-ear, and good IT peoples. Big company like TCS, Infosys, Wipro already use AI. Government also do program “AI for All”. It want AI in farm, doctor place, school and transport.\n",
    "\n",
    "In farm, AI help farmer know when to put seed, when rain come, how stop bug. In health, AI help doctor see sick early. In school, AI help student learn good. Government office use AI to find bad people and work fast.\n",
    "\n",
    "But problem come also. First is many villager no have phone or internet. So AI not help them. Second, many people lose job because AI and machine do work. Poor people get more bad.\n",
    "\n",
    "One more big problem is privacy. AI need big big data. Who take care? Bangladesh still make data rule. If no strong rule, AI do bad.\n",
    "\n",
    "Bangladesh must all people together – govern, school, company and normal people. We teach AI and make sure AI not bad. Also talk to other country and learn from them.\n",
    "\n",
    "If Bangladesh use AI good way, we become strong, help poor and make better life. But if only rich use AI, and poor no get, then big bad thing happen.\n",
    "\n",
    "So, in short, AI time in Bangladesh have many hope and many danger. We must go right road. AI must help all people, not only some. Then Bangladesh grow big and world say \"good job Bangladesh\".\"\"\"\n"
   ]
  },
  {
   "cell_type": "code",
   "execution_count": 54,
   "metadata": {},
   "outputs": [
    {
     "data": {
      "text/plain": [
       "{'essay': 'Bangladesh and AI Time\\n\\nNow world change very fast because new tech call Artificial Intel… something (AI). Bangladesh also want become big in this AI thing. If work hard, Bangladesh can go top. But if no careful, Bangladesh go back.\\n\\nBangladesh have many good. We have smart student, many engine-ear, and good IT peoples. Big company like TCS, Infosys, Wipro already use AI. Government also do program “AI for All”. It want AI in farm, doctor place, school and transport.\\n\\nIn farm, AI help farmer know when to put seed, when rain come, how stop bug. In health, AI help doctor see sick early. In school, AI help student learn good. Government office use AI to find bad people and work fast.\\n\\nBut problem come also. First is many villager no have phone or internet. So AI not help them. Second, many people lose job because AI and machine do work. Poor people get more bad.\\n\\nOne more big problem is privacy. AI need big big data. Who take care? Bangladesh still make data rule. If no strong rule, AI do bad.\\n\\nBangladesh must all people together – govern, school, company and normal people. We teach AI and make sure AI not bad. Also talk to other country and learn from them.\\n\\nIf Bangladesh use AI good way, we become strong, help poor and make better life. But if only rich use AI, and poor no get, then big bad thing happen.\\n\\nSo, in short, AI time in Bangladesh have many hope and many danger. We must go right road. AI must help all people, not only some. Then Bangladesh grow big and world say \"good job Bangladesh\".',\n",
       " 'language_feedback': \"The essay discusses the potential of AI in Bangladesh, highlighting both opportunities and challenges. It mentions the country's strengths, such as a skilled workforce and government initiatives, and applications of AI in various sectors. However, it also points out issues like digital divide, job displacement, and privacy concerns. The essay is clear but lacks depth and grammatical accuracy.\",\n",
       " 'analysis_feedback': \"The essay provides a good overview of AI's potential in Bangladesh, discussing applications in agriculture, healthcare, education, and governance. It also highlights challenges like digital divide, job displacement, and data privacy. However, the analysis is somewhat superficial, lacking detailed examples and depth in each area. To improve, the essay should explore each point more thoroughly, include specific examples or data, and offer more nuanced recommendations.\",\n",
       " 'clarity_feedback': \"The essay effectively discusses the potential of AI in Bangladesh, highlighting both opportunities and challenges. It mentions the country's resources, government initiatives, and potential risks such as the digital divide and privacy concerns. The structure is logical, moving from positive aspects to negative ones. However, the language is quite simple and repetitive, with some grammatical errors that could hinder clarity. The flow between ideas could be smoother with better transitions. The conclusion is somewhat abrupt and could more effectively summarize the main points. Overall, the essay conveys its message but would benefit from improvements in grammar, sentence structure, and flow.\",\n",
       " 'overall_feedback': 'The essay provides a clear and logical discussion on the potential of AI in Bangladesh, effectively highlighting both opportunities and challenges. It successfully covers applications in various sectors and acknowledges issues like the digital divide. However, the analysis lacks depth and detailed examples. The language, while clear, is overly simple and repetitive, with grammatical errors that detract from clarity. The flow between ideas is disjointed, and the conclusion is abrupt. To enhance the essay, more detailed examples, varied language, improved grammar, smoother transitions, and a more comprehensive conclusion are recommended.',\n",
       " 'individual_scores': [6, 6, 7],\n",
       " 'avg_score': 6.333333333333333}"
      ]
     },
     "execution_count": 54,
     "metadata": {},
     "output_type": "execute_result"
    }
   ],
   "source": [
    "intial_state = {\n",
    "    'essay': essay2\n",
    "}\n",
    "\n",
    "workflow.invoke(intial_state)"
   ]
  },
  {
   "cell_type": "code",
   "execution_count": null,
   "metadata": {},
   "outputs": [],
   "source": []
  }
 ],
 "metadata": {
  "kernelspec": {
   "display_name": "Python 3",
   "language": "python",
   "name": "python3"
  },
  "language_info": {
   "codemirror_mode": {
    "name": "ipython",
    "version": 3
   },
   "file_extension": ".py",
   "mimetype": "text/x-python",
   "name": "python",
   "nbconvert_exporter": "python",
   "pygments_lexer": "ipython3",
   "version": "3.12.11"
  }
 },
 "nbformat": 4,
 "nbformat_minor": 2
}
